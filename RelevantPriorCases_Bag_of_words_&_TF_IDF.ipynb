{
  "nbformat": 4,
  "nbformat_minor": 0,
  "metadata": {
    "colab": {
      "name": "RelevantPriorCases_Bag of words & TF-IDF.ipynb",
      "provenance": [],
      "collapsed_sections": []
    },
    "kernelspec": {
      "name": "python3",
      "display_name": "Python 3"
    }
  },
  "cells": [
    {
      "cell_type": "markdown",
      "metadata": {
        "id": "IxtkqUyex52k"
      },
      "source": [
        "Installing required libraries"
      ]
    },
    {
      "cell_type": "code",
      "metadata": {
        "colab": {
          "base_uri": "https://localhost:8080/"
        },
        "id": "jdAWAgss3I_V",
        "outputId": "4fd48600-30bf-4741-8e70-484f3a4496ec"
      },
      "source": [
        "# Text processing and NLP\n",
        "import nltk\n",
        "from nltk.corpus import stopwords\n",
        "from nltk.stem import PorterStemmer\n",
        "from nltk.stem import WordNetLemmatizer\n",
        "from nltk.tokenize import word_tokenize\n",
        "nltk.download('punkt')\n",
        "nltk.download('stopwords')\n",
        "nltk.download('wordnet')"
      ],
      "execution_count": null,
      "outputs": [
        {
          "output_type": "stream",
          "text": [
            "[nltk_data] Downloading package punkt to /root/nltk_data...\n",
            "[nltk_data]   Unzipping tokenizers/punkt.zip.\n",
            "[nltk_data] Downloading package stopwords to /root/nltk_data...\n",
            "[nltk_data]   Unzipping corpora/stopwords.zip.\n",
            "[nltk_data] Downloading package wordnet to /root/nltk_data...\n",
            "[nltk_data]   Unzipping corpora/wordnet.zip.\n"
          ],
          "name": "stdout"
        },
        {
          "output_type": "execute_result",
          "data": {
            "text/plain": [
              "True"
            ]
          },
          "metadata": {
            "tags": []
          },
          "execution_count": 2
        }
      ]
    },
    {
      "cell_type": "code",
      "metadata": {
        "colab": {
          "base_uri": "https://localhost:8080/"
        },
        "id": "nLWKIydmk7HP",
        "outputId": "0558eacb-2345-409b-951e-c551a49e7891"
      },
      "source": [
        "from collections import defaultdict,Counter\n",
        "from nltk.stem.snowball import SnowballStemmer\n",
        "from nltk.corpus import stopwords\n",
        "from nltk.tokenize import RegexpTokenizer\n",
        "from nltk.tokenize import word_tokenize \n",
        "from sklearn.feature_extraction.text import CountVectorizer \n",
        "from sklearn.feature_extraction.text import TfidfVectorizer \n",
        "from sklearn.cluster import KMeans\n",
        "import json\n",
        "import io\n",
        "import nltk\n",
        "from nltk.stem import WordNetLemmatizer \n",
        "from nltk.corpus import wordnet\n",
        "nltk.download('stopwords')\n",
        "nltk.download('punkt')\n",
        "nltk.download('wordnet')\n",
        "stemmer = SnowballStemmer(\"english\")"
      ],
      "execution_count": null,
      "outputs": [
        {
          "output_type": "stream",
          "text": [
            "[nltk_data] Downloading package stopwords to /root/nltk_data...\n",
            "[nltk_data]   Package stopwords is already up-to-date!\n",
            "[nltk_data] Downloading package punkt to /root/nltk_data...\n",
            "[nltk_data]   Package punkt is already up-to-date!\n",
            "[nltk_data] Downloading package wordnet to /root/nltk_data...\n",
            "[nltk_data]   Package wordnet is already up-to-date!\n"
          ],
          "name": "stdout"
        }
      ]
    },
    {
      "cell_type": "code",
      "metadata": {
        "id": "oHnqrPqJ4hZ-"
      },
      "source": [
        "# Dataset representation\n",
        "import pandas as pd\n",
        "import numpy as np\n",
        "\n",
        "# String manipulations\n",
        "import string\n",
        "import re\n",
        "import io"
      ],
      "execution_count": null,
      "outputs": []
    },
    {
      "cell_type": "markdown",
      "metadata": {
        "id": "uZ2H7P8eyFvP"
      },
      "source": [
        "Some Text Pre-processing"
      ]
    },
    {
      "cell_type": "code",
      "metadata": {
        "id": "Zv0lfSpPtugQ"
      },
      "source": [
        "#text processing the query\n",
        "#Text Preprocessing!\n",
        "\n",
        "def remove_punctuation(text):\n",
        "    translator = str.maketrans('', '', string.punctuation) \n",
        "    return text.translate(translator)\n",
        "\n",
        "def remove_whitespace(text): \n",
        "    return  \" \".join(text.split()) \n",
        "\n",
        "\n",
        "def remove_stopwords_and_stem(text): \n",
        "    stop_words = set(stopwords.words(\"english\")) \n",
        "    word_tokens = word_tokenize(text) \n",
        "    filtered_text = [word for word in word_tokens if word not in stop_words] \n",
        "    stems = [stemmer.stem(word) for word in filtered_text] \n",
        "    return stems"
      ],
      "execution_count": null,
      "outputs": []
    },
    {
      "cell_type": "code",
      "metadata": {
        "id": "SAA-stqP_C_V"
      },
      "source": [
        "def remove_punctuation(text):\n",
        "    #also whitespace\n",
        "    translator = str.maketrans('', '', string.punctuation) \n",
        "    return text.translate(translator)\n",
        "def remove_stop_words_and_lemmatize(sentence):\n",
        "  sentence=remove_punctuation(sentence)\n",
        "  stop_words = set(stopwords.words('english'))\n",
        "  word_tokens = word_tokenize(sentence) \n",
        "  word_tokens=[word.lower() for word in word_tokens]\n",
        "  filtered_sentence = [w for w in word_tokens if not w in stop_words]\n",
        "  cleaned=[token for token in filtered_sentence if not token.isdigit()] #remove numbers\n",
        "  lemmatizer = WordNetLemmatizer()\n",
        "  lemmatized_sentence=[lemmatizer.lemmatize(w) for w in filtered_sentence]  \n",
        "  return lemmatized_sentence\n"
      ],
      "execution_count": null,
      "outputs": []
    },
    {
      "cell_type": "code",
      "metadata": {
        "colab": {
          "resources": {
            "http://localhost:8080/nbextensions/google.colab/files.js": {
              "data": "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",
              "ok": true,
              "headers": [
                [
                  "content-type",
                  "application/javascript"
                ]
              ],
              "status": 200,
              "status_text": ""
            }
          },
          "base_uri": "https://localhost:8080/",
          "height": 72
        },
        "id": "8vU3c5q84lYA",
        "outputId": "1a74d8cd-8e63-4262-c89d-bf22a5710364"
      },
      "source": [
        "from google.colab import files \n",
        "  \n",
        "  \n",
        "uploaded = files.upload()"
      ],
      "execution_count": null,
      "outputs": [
        {
          "output_type": "display_data",
          "data": {
            "text/html": [
              "\n",
              "     <input type=\"file\" id=\"files-2b4a6151-7b22-4c0f-955b-76e269c27929\" name=\"files[]\" multiple disabled\n",
              "        style=\"border:none\" />\n",
              "     <output id=\"result-2b4a6151-7b22-4c0f-955b-76e269c27929\">\n",
              "      Upload widget is only available when the cell has been executed in the\n",
              "      current browser session. Please rerun this cell to enable.\n",
              "      </output>\n",
              "      <script src=\"/nbextensions/google.colab/files.js\"></script> "
            ],
            "text/plain": [
              "<IPython.core.display.HTML object>"
            ]
          },
          "metadata": {
            "tags": []
          }
        },
        {
          "output_type": "stream",
          "text": [
            "Saving cleaned_case_docs.csv to cleaned_case_docs.csv\n"
          ],
          "name": "stdout"
        }
      ]
    },
    {
      "cell_type": "code",
      "metadata": {
        "colab": {
          "base_uri": "https://localhost:8080/",
          "height": 359
        },
        "id": "UDQPAmIPHbXt",
        "outputId": "8e44aae9-29f5-459c-966a-de7c045edd64"
      },
      "source": [
        "df = pd.read_csv(io.BytesIO(uploaded['cleaned_case_docs.csv']))\n",
        "df.head(10)"
      ],
      "execution_count": null,
      "outputs": [
        {
          "output_type": "execute_result",
          "data": {
            "text/html": [
              "<div>\n",
              "<style scoped>\n",
              "    .dataframe tbody tr th:only-of-type {\n",
              "        vertical-align: middle;\n",
              "    }\n",
              "\n",
              "    .dataframe tbody tr th {\n",
              "        vertical-align: top;\n",
              "    }\n",
              "\n",
              "    .dataframe thead th {\n",
              "        text-align: right;\n",
              "    }\n",
              "</style>\n",
              "<table border=\"1\" class=\"dataframe\">\n",
              "  <thead>\n",
              "    <tr style=\"text-align: right;\">\n",
              "      <th></th>\n",
              "      <th>Unnamed: 0</th>\n",
              "      <th>index</th>\n",
              "      <th>FileName</th>\n",
              "      <th>Content</th>\n",
              "      <th>cleaned_words</th>\n",
              "    </tr>\n",
              "  </thead>\n",
              "  <tbody>\n",
              "    <tr>\n",
              "      <th>0</th>\n",
              "      <td>0</td>\n",
              "      <td>0</td>\n",
              "      <td>C1</td>\n",
              "      <td>Masud Khan v State Of Uttar Pradesh\\r\\nSupreme...</td>\n",
              "      <td>masud khan v state uttar pradeshsuprem court i...</td>\n",
              "    </tr>\n",
              "    <tr>\n",
              "      <th>1</th>\n",
              "      <td>1</td>\n",
              "      <td>1</td>\n",
              "      <td>C10</td>\n",
              "      <td>Prabhakaran Nair, Etc. v State Of Tamil Nadu A...</td>\n",
              "      <td>prabhakaran nair etc v state tamil nadu orsupr...</td>\n",
              "    </tr>\n",
              "    <tr>\n",
              "      <th>2</th>\n",
              "      <td>2</td>\n",
              "      <td>2</td>\n",
              "      <td>C100</td>\n",
              "      <td>Hiten P. Dalal v Bratindranath Banerjee\\r\\nSup...</td>\n",
              "      <td>hiten p dalal v bratindranath banerjesuprem co...</td>\n",
              "    </tr>\n",
              "    <tr>\n",
              "      <th>3</th>\n",
              "      <td>3</td>\n",
              "      <td>3</td>\n",
              "      <td>C1000</td>\n",
              "      <td>Ashok Kumar and Others v State of Tamil Nadu\\r...</td>\n",
              "      <td>ashok kumar other v state tamil nadusuprem cou...</td>\n",
              "    </tr>\n",
              "    <tr>\n",
              "      <th>4</th>\n",
              "      <td>4</td>\n",
              "      <td>4</td>\n",
              "      <td>C1001</td>\n",
              "      <td>Ashok Dhingra v N.C.T. of Delhi\\r\\nSupreme Cou...</td>\n",
              "      <td>ashok dhingra v nct delhisuprem court india3 m...</td>\n",
              "    </tr>\n",
              "    <tr>\n",
              "      <th>5</th>\n",
              "      <td>5</td>\n",
              "      <td>5</td>\n",
              "      <td>C1002</td>\n",
              "      <td>Bridge and Roof Company (India), Limited, and ...</td>\n",
              "      <td>bridg roof compani india limit other v union i...</td>\n",
              "    </tr>\n",
              "    <tr>\n",
              "      <th>6</th>\n",
              "      <td>6</td>\n",
              "      <td>6</td>\n",
              "      <td>C1003</td>\n",
              "      <td>Main Pal v State of Haryana\\r\\nSupreme Court o...</td>\n",
              "      <td>main pal v state haryanasuprem court india7 se...</td>\n",
              "    </tr>\n",
              "    <tr>\n",
              "      <th>7</th>\n",
              "      <td>7</td>\n",
              "      <td>7</td>\n",
              "      <td>C1004</td>\n",
              "      <td>Minor P. Rajendran v State of Madras and Other...</td>\n",
              "      <td>minor p rajendran v state madra othersuprem co...</td>\n",
              "    </tr>\n",
              "    <tr>\n",
              "      <th>8</th>\n",
              "      <td>8</td>\n",
              "      <td>8</td>\n",
              "      <td>C1005</td>\n",
              "      <td>State of Bihar v Gopi Kishore Prasad\\r\\nSuprem...</td>\n",
              "      <td>state bihar v gopi kishor prasadsuprem court i...</td>\n",
              "    </tr>\n",
              "    <tr>\n",
              "      <th>9</th>\n",
              "      <td>9</td>\n",
              "      <td>9</td>\n",
              "      <td>C1006</td>\n",
              "      <td>Food Corporation of India and Another v Yadav ...</td>\n",
              "      <td>food corpor india anoth v yadav engin contract...</td>\n",
              "    </tr>\n",
              "  </tbody>\n",
              "</table>\n",
              "</div>"
            ],
            "text/plain": [
              "   Unnamed: 0  ...                                      cleaned_words\n",
              "0           0  ...  masud khan v state uttar pradeshsuprem court i...\n",
              "1           1  ...  prabhakaran nair etc v state tamil nadu orsupr...\n",
              "2           2  ...  hiten p dalal v bratindranath banerjesuprem co...\n",
              "3           3  ...  ashok kumar other v state tamil nadusuprem cou...\n",
              "4           4  ...  ashok dhingra v nct delhisuprem court india3 m...\n",
              "5           5  ...  bridg roof compani india limit other v union i...\n",
              "6           6  ...  main pal v state haryanasuprem court india7 se...\n",
              "7           7  ...  minor p rajendran v state madra othersuprem co...\n",
              "8           8  ...  state bihar v gopi kishor prasadsuprem court i...\n",
              "9           9  ...  food corpor india anoth v yadav engin contract...\n",
              "\n",
              "[10 rows x 5 columns]"
            ]
          },
          "metadata": {
            "tags": []
          },
          "execution_count": 9
        }
      ]
    },
    {
      "cell_type": "markdown",
      "metadata": {
        "id": "iA_L2cPmRUPV"
      },
      "source": [
        "# Approach 1: Bag of Words\n"
      ]
    },
    {
      "cell_type": "code",
      "metadata": {
        "colab": {
          "base_uri": "https://localhost:8080/"
        },
        "id": "MaTbi2T9xvvD",
        "outputId": "e46544e7-1c53-4349-b70b-dc88b92095e7"
      },
      "source": [
        "\n",
        "#Preprocess case docs!\n",
        "DF=defaultdict(set)\n",
        "doc_count=defaultdict()\n",
        "doc_tokens=defaultdict()\n",
        "cleaned_doc_list=[]\n",
        "for i,row in df.iterrows():\n",
        "    doc=row['Content']\n",
        "    tokens=remove_stop_words_and_lemmatize(doc)\n",
        "    doc_string=' '.join(tokens)\n",
        "    cleaned_doc_list.append(doc_string)\n",
        "\n",
        "documents = list(cleaned_doc_list)\n",
        "df['cleaned_doc']=cleaned_doc_list\n",
        "print(df)"
      ],
      "execution_count": null,
      "outputs": [
        {
          "output_type": "stream",
          "text": [
            "      Unnamed: 0  ...                                        cleaned_doc\n",
            "0              0  ...  masud khan v state uttar pradesh supreme court...\n",
            "1              1  ...  prabhakaran nair etc v state tamil nadu or sup...\n",
            "2              2  ...  hiten p dalal v bratindranath banerjee supreme...\n",
            "3              3  ...  ashok kumar others v state tamil nadu supreme ...\n",
            "4              4  ...  ashok dhingra v nct delhi supreme court india ...\n",
            "...          ...  ...                                                ...\n",
            "2909        2909  ...  rajendra singh v state uttaranchal supreme cou...\n",
            "2910        2910  ...  food corporation india anr v seil ltd or supre...\n",
            "2911        2911  ...  state kerala v sasi supreme court india 31 oct...\n",
            "2912        2912  ...  columbia sportswear company v director income ...\n",
            "2913        2913  ...  bharat gurjar others v state rajasthan supreme...\n",
            "\n",
            "[2914 rows x 6 columns]\n"
          ],
          "name": "stdout"
        }
      ]
    },
    {
      "cell_type": "code",
      "metadata": {
        "id": "--Zr3nQrlFTB"
      },
      "source": [
        "#creating the bag of words model for the case documents\n",
        "from sklearn.feature_extraction.text import CountVectorizer\n",
        "cv = CountVectorizer(stop_words='english', max_features = 5000)\n",
        "bow = cv.fit_transform(documents)"
      ],
      "execution_count": null,
      "outputs": []
    },
    {
      "cell_type": "code",
      "metadata": {
        "colab": {
          "base_uri": "https://localhost:8080/"
        },
        "id": "8GG5ADPQmpQT",
        "outputId": "b291d41a-8a37-4648-ae89-b5f0bdd9cf73"
      },
      "source": [
        "bow.shape"
      ],
      "execution_count": null,
      "outputs": [
        {
          "output_type": "execute_result",
          "data": {
            "text/plain": [
              "(2914, 5000)"
            ]
          },
          "metadata": {
            "tags": []
          },
          "execution_count": 63
        }
      ]
    },
    {
      "cell_type": "code",
      "metadata": {
        "colab": {
          "base_uri": "https://localhost:8080/"
        },
        "id": "fPAWxW6xkwc9",
        "outputId": "b2fbe0dd-10ef-4d94-aa01-c37d91bd7c7c"
      },
      "source": [
        "bow_df = pd.DataFrame(bow[0].T.todense(), index=cv.get_feature_names(), columns=[\"count\"])\n",
        "bow_df = bow_df.sort_values('count', ascending=False)\n",
        "print (bow_df)"
      ],
      "execution_count": null,
      "outputs": [
        {
          "output_type": "stream",
          "text": [
            "            count\n",
            "petitioner     16\n",
            "issue          12\n",
            "proceeding     12\n",
            "india          11\n",
            "criminal       10\n",
            "...           ...\n",
            "driver          0\n",
            "driven          0\n",
            "drive           0\n",
            "drew            0\n",
            "zone            0\n",
            "\n",
            "[5000 rows x 1 columns]\n"
          ],
          "name": "stdout"
        }
      ]
    },
    {
      "cell_type": "code",
      "metadata": {
        "colab": {
          "resources": {
            "http://localhost:8080/nbextensions/google.colab/files.js": {
              "data": "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",
              "ok": true,
              "headers": [
                [
                  "content-type",
                  "application/javascript"
                ]
              ],
              "status": 200,
              "status_text": ""
            }
          },
          "base_uri": "https://localhost:8080/",
          "height": 72
        },
        "id": "LpB_nV-dnoaa",
        "outputId": "c1240180-614a-467f-a49d-29b31109f920"
      },
      "source": [
        "uploaded2 =files.upload()\n",
        "qdf= pd.read_csv(io.BytesIO(uploaded2['query.csv']))\n"
      ],
      "execution_count": null,
      "outputs": [
        {
          "output_type": "display_data",
          "data": {
            "text/html": [
              "\n",
              "     <input type=\"file\" id=\"files-04c3bad7-d97a-4635-a110-0662dfd35a62\" name=\"files[]\" multiple disabled\n",
              "        style=\"border:none\" />\n",
              "     <output id=\"result-04c3bad7-d97a-4635-a110-0662dfd35a62\">\n",
              "      Upload widget is only available when the cell has been executed in the\n",
              "      current browser session. Please rerun this cell to enable.\n",
              "      </output>\n",
              "      <script src=\"/nbextensions/google.colab/files.js\"></script> "
            ],
            "text/plain": [
              "<IPython.core.display.HTML object>"
            ]
          },
          "metadata": {
            "tags": []
          }
        },
        {
          "output_type": "stream",
          "text": [
            "Saving query.csv to query (1).csv\n"
          ],
          "name": "stdout"
        }
      ]
    },
    {
      "cell_type": "code",
      "metadata": {
        "colab": {
          "base_uri": "https://localhost:8080/",
          "height": 204
        },
        "id": "IfpzbI-2oBI4",
        "outputId": "c9a4c21f-9549-4aed-dad7-84b48347b0c9"
      },
      "source": [
        "qdf.head()"
      ],
      "execution_count": null,
      "outputs": [
        {
          "output_type": "execute_result",
          "data": {
            "text/html": [
              "<div>\n",
              "<style scoped>\n",
              "    .dataframe tbody tr th:only-of-type {\n",
              "        vertical-align: middle;\n",
              "    }\n",
              "\n",
              "    .dataframe tbody tr th {\n",
              "        vertical-align: top;\n",
              "    }\n",
              "\n",
              "    .dataframe thead th {\n",
              "        text-align: right;\n",
              "    }\n",
              "</style>\n",
              "<table border=\"1\" class=\"dataframe\">\n",
              "  <thead>\n",
              "    <tr style=\"text-align: right;\">\n",
              "      <th></th>\n",
              "      <th>Column1</th>\n",
              "      <th>Column2</th>\n",
              "      <th>Column3</th>\n",
              "    </tr>\n",
              "  </thead>\n",
              "  <tbody>\n",
              "    <tr>\n",
              "      <th>0</th>\n",
              "      <td>AILA_Q1</td>\n",
              "      <td>NaN</td>\n",
              "      <td>The appellant on February 9, 1961 was appointe...</td>\n",
              "    </tr>\n",
              "    <tr>\n",
              "      <th>1</th>\n",
              "      <td>AILA_Q2</td>\n",
              "      <td>NaN</td>\n",
              "      <td>The appellant before us was examined as prime ...</td>\n",
              "    </tr>\n",
              "    <tr>\n",
              "      <th>2</th>\n",
              "      <td>AILA_Q3</td>\n",
              "      <td>NaN</td>\n",
              "      <td>This appeal arises from the judgment of the le...</td>\n",
              "    </tr>\n",
              "    <tr>\n",
              "      <th>3</th>\n",
              "      <td>AILA_Q4</td>\n",
              "      <td>NaN</td>\n",
              "      <td>The Petitioner was married to the Respondent N...</td>\n",
              "    </tr>\n",
              "    <tr>\n",
              "      <th>4</th>\n",
              "      <td>AILA_Q5</td>\n",
              "      <td>NaN</td>\n",
              "      <td>This appeal is preferred against the judgment ...</td>\n",
              "    </tr>\n",
              "  </tbody>\n",
              "</table>\n",
              "</div>"
            ],
            "text/plain": [
              "   Column1  Column2                                            Column3\n",
              "0  AILA_Q1      NaN  The appellant on February 9, 1961 was appointe...\n",
              "1  AILA_Q2      NaN  The appellant before us was examined as prime ...\n",
              "2  AILA_Q3      NaN  This appeal arises from the judgment of the le...\n",
              "3  AILA_Q4      NaN  The Petitioner was married to the Respondent N...\n",
              "4  AILA_Q5      NaN  This appeal is preferred against the judgment ..."
            ]
          },
          "metadata": {
            "tags": []
          },
          "execution_count": 23
        }
      ]
    },
    {
      "cell_type": "code",
      "metadata": {
        "id": "UeexFxTBn8DF"
      },
      "source": [
        "queries=list(qdf['Column3'])"
      ],
      "execution_count": null,
      "outputs": []
    },
    {
      "cell_type": "code",
      "metadata": {
        "id": "KCoWDQznrSrg"
      },
      "source": [
        "from sklearn.metrics.pairwise import cosine_similarity"
      ],
      "execution_count": null,
      "outputs": []
    },
    {
      "cell_type": "code",
      "metadata": {
        "id": "yEUATaSAmtcR"
      },
      "source": [
        "N=2914 \n",
        "relevant_k=20\n",
        "Q=50\n",
        "cleaned_queries=[]\n",
        "relevant_docs=[] #top 3 relevant docs per query! \n",
        "idx=0\n",
        "for line in queries:\n",
        "    idx+=1\n",
        "    #clean query\n",
        "    tokens=remove_stop_words_and_lemmatize(line)\n",
        "    query_string=' '.join(tokens)\n",
        "    cleaned_queries.append(query_string)\n",
        "    query_vec = cv.transform([query_string])\n",
        "    results = cosine_similarity(bow,query_vec)\n",
        "    cosine_similarities=[]\n",
        "    for doc_index in range(N):\n",
        "      cosine_similarities.append((results[doc_index][0],doc_index+1))\n",
        "    top_k=sorted(cosine_similarities,key=lambda x:x[0],reverse=True)[:relevant_k] #top k docs sorted by cosine similarity\n",
        "    top_k_docs=[doc_idx for cs,doc_idx in top_k] #store only the doc indices\n",
        "    relevant_docs.append(top_k_docs)\n",
        "  "
      ],
      "execution_count": null,
      "outputs": []
    },
    {
      "cell_type": "code",
      "metadata": {
        "colab": {
          "base_uri": "https://localhost:8080/"
        },
        "id": "sNUjnfd3rgTn",
        "outputId": "1f47290d-7da3-46ad-e46a-bf2a5a270f37"
      },
      "source": [
        "print(\"Printing queries and top k relevant docs by Bag of Words model and cosine similarity\\n\")\n",
        "qdf[\"query_string\"]=cleaned_queries\n",
        "qdf[\"top_k_docs\"]=relevant_docs\n",
        "print(qdf)"
      ],
      "execution_count": null,
      "outputs": [
        {
          "output_type": "stream",
          "text": [
            "Printing queries and top k relevant docs by Bag of Words model and cosine similarity\n",
            "\n",
            "     Column1  ...                      top_k_docs\n",
            "0    AILA_Q1  ...   [1106, 270, 1921, 2280, 1822]\n",
            "1    AILA_Q2  ...    [1963, 1465, 2408, 736, 641]\n",
            "2    AILA_Q3  ...   [2207, 2505, 1885, 1039, 846]\n",
            "3    AILA_Q4  ...     [943, 105, 1920, 1013, 717]\n",
            "4    AILA_Q5  ...    [600, 2272, 1235, 1363, 489]\n",
            "5    AILA_Q6  ...        [590, 294, 62, 553, 470]\n",
            "6    AILA_Q7  ...   [1077, 1055, 1002, 703, 1261]\n",
            "7    AILA_Q8  ...   [2632, 599, 1653, 2709, 1293]\n",
            "8    AILA_Q9  ...   [2000, 1105, 1159, 2033, 489]\n",
            "9   AILA_Q10  ...   [1408, 119, 2386, 1926, 1959]\n",
            "10  AILA_Q11  ...   [1925, 2617, 396, 2221, 1938]\n",
            "11  AILA_Q12  ...    [2359, 2137, 1289, 918, 123]\n",
            "12  AILA_Q13  ...   [1825, 200, 1572, 1715, 1436]\n",
            "13  AILA_Q14  ...   [265, 2316, 1105, 1212, 1960]\n",
            "14  AILA_Q15  ...    [2135, 1876, 823, 2014, 187]\n",
            "15  AILA_Q16  ...   [599, 2640, 1534, 2709, 2159]\n",
            "16  AILA_Q17  ...   [1289, 396, 1638, 1387, 2816]\n",
            "17  AILA_Q18  ...     [879, 180, 1503, 979, 2294]\n",
            "18  AILA_Q19  ...    [407, 2824, 986, 1988, 1395]\n",
            "19  AILA_Q20  ...   [184, 2658, 1180, 2567, 1724]\n",
            "20  AILA_Q21  ...      [147, 158, 249, 1535, 115]\n",
            "21  AILA_Q22  ...   [1225, 2567, 1414, 307, 1914]\n",
            "22  AILA_Q23  ...   [2820, 1760, 2086, 1119, 461]\n",
            "23  AILA_Q24  ...   [1582, 1627, 2646, 2032, 430]\n",
            "24  AILA_Q25  ...       [89, 28, 252, 1598, 2078]\n",
            "25  AILA_Q26  ...    [474, 1995, 2408, 2843, 747]\n",
            "26  AILA_Q27  ...     [2816, 1504, 50, 486, 1925]\n",
            "27  AILA_Q28  ...    [891, 307, 1643, 2501, 2658]\n",
            "28  AILA_Q29  ...    [2315, 2640, 1724, 138, 966]\n",
            "29  AILA_Q30  ...    [368, 2285, 614, 2309, 2731]\n",
            "30  AILA_Q31  ...  [1200, 2280, 1798, 1009, 1674]\n",
            "31  AILA_Q32  ...     [2632, 138, 1724, 599, 905]\n",
            "32  AILA_Q33  ...   [891, 1330, 2051, 1627, 1513]\n",
            "33  AILA_Q34  ...    [1013, 1794, 2174, 528, 754]\n",
            "34  AILA_Q35  ...     [636, 138, 2640, 601, 1597]\n",
            "35  AILA_Q36  ...      [2216, 158, 539, 58, 1852]\n",
            "36  AILA_Q37  ...    [1819, 1516, 886, 1146, 853]\n",
            "37  AILA_Q38  ...   [486, 1814, 1660, 2280, 1460]\n",
            "38  AILA_Q39  ...     [27, 2540, 1194, 1105, 288]\n",
            "39  AILA_Q40  ...     [1416, 1398, 96, 530, 2895]\n",
            "40  AILA_Q41  ...     [644, 1516, 573, 2167, 606]\n",
            "41  AILA_Q42  ...    [747, 1724, 1627, 2646, 360]\n",
            "42  AILA_Q43  ...    [943, 1013, 2715, 717, 1665]\n",
            "43  AILA_Q44  ...     [661, 1422, 32, 1443, 2813]\n",
            "44  AILA_Q45  ...    [138, 184, 1724, 1180, 2315]\n",
            "45  AILA_Q46  ...   [2596, 702, 1918, 1577, 1026]\n",
            "46  AILA_Q47  ...      [62, 294, 2186, 1516, 418]\n",
            "47  AILA_Q48  ...   [1224, 2019, 2716, 743, 2096]\n",
            "48  AILA_Q49  ...   [905, 1106, 1921, 2646, 1078]\n",
            "49  AILA_Q50  ...    [1963, 1465, 1348, 641, 183]\n",
            "\n",
            "[50 rows x 5 columns]\n"
          ],
          "name": "stdout"
        }
      ]
    },
    {
      "cell_type": "markdown",
      "metadata": {
        "id": "IOfiD-zt3Krr"
      },
      "source": [
        "Evaluation Measures"
      ]
    },
    {
      "cell_type": "code",
      "metadata": {
        "colab": {
          "resources": {
            "http://localhost:8080/nbextensions/google.colab/files.js": {
              "data": "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",
              "ok": true,
              "headers": [
                [
                  "content-type",
                  "application/javascript"
                ]
              ],
              "status": 200,
              "status_text": ""
            }
          },
          "base_uri": "https://localhost:8080/",
          "height": 72
        },
        "id": "1zku7fEorxO_",
        "outputId": "6586b352-29b2-48aa-c326-ec37d4cbf800"
      },
      "source": [
        "#Uploading rel docs for comparison and evalutating!\n",
        "import json\n",
        "from google.colab import files\n",
        "uploaded3 = files.upload()"
      ],
      "execution_count": null,
      "outputs": [
        {
          "output_type": "display_data",
          "data": {
            "text/html": [
              "\n",
              "     <input type=\"file\" id=\"files-91f172f9-a510-4917-860a-789d2648651e\" name=\"files[]\" multiple disabled\n",
              "        style=\"border:none\" />\n",
              "     <output id=\"result-91f172f9-a510-4917-860a-789d2648651e\">\n",
              "      Upload widget is only available when the cell has been executed in the\n",
              "      current browser session. Please rerun this cell to enable.\n",
              "      </output>\n",
              "      <script src=\"/nbextensions/google.colab/files.js\"></script> "
            ],
            "text/plain": [
              "<IPython.core.display.HTML object>"
            ]
          },
          "metadata": {
            "tags": []
          }
        },
        {
          "output_type": "stream",
          "text": [
            "Saving rel_docs.csv to rel_docs (1).csv\n"
          ],
          "name": "stdout"
        }
      ]
    },
    {
      "cell_type": "code",
      "metadata": {
        "colab": {
          "base_uri": "https://localhost:8080/",
          "height": 204
        },
        "id": "wMzSpI3mr3JA",
        "outputId": "926ce135-73e3-43a2-e5b3-8fda77c0ab80"
      },
      "source": [
        "rel_df= pd.read_csv(io.BytesIO(uploaded3['rel_docs.csv']))\n",
        "rel_df.head()"
      ],
      "execution_count": null,
      "outputs": [
        {
          "output_type": "execute_result",
          "data": {
            "text/html": [
              "<div>\n",
              "<style scoped>\n",
              "    .dataframe tbody tr th:only-of-type {\n",
              "        vertical-align: middle;\n",
              "    }\n",
              "\n",
              "    .dataframe tbody tr th {\n",
              "        vertical-align: top;\n",
              "    }\n",
              "\n",
              "    .dataframe thead th {\n",
              "        text-align: right;\n",
              "    }\n",
              "</style>\n",
              "<table border=\"1\" class=\"dataframe\">\n",
              "  <thead>\n",
              "    <tr style=\"text-align: right;\">\n",
              "      <th></th>\n",
              "      <th>Unnamed: 0</th>\n",
              "      <th>query_no</th>\n",
              "      <th>relevant</th>\n",
              "    </tr>\n",
              "  </thead>\n",
              "  <tbody>\n",
              "    <tr>\n",
              "      <th>0</th>\n",
              "      <td>0</td>\n",
              "      <td>AILA_Q1</td>\n",
              "      <td>[9, 14]</td>\n",
              "    </tr>\n",
              "    <tr>\n",
              "      <th>1</th>\n",
              "      <td>1</td>\n",
              "      <td>AILA_Q2</td>\n",
              "      <td>[27, 22]</td>\n",
              "    </tr>\n",
              "    <tr>\n",
              "      <th>2</th>\n",
              "      <td>2</td>\n",
              "      <td>AILA_Q3</td>\n",
              "      <td>[1]</td>\n",
              "    </tr>\n",
              "    <tr>\n",
              "      <th>3</th>\n",
              "      <td>3</td>\n",
              "      <td>AILA_Q4</td>\n",
              "      <td>[182]</td>\n",
              "    </tr>\n",
              "    <tr>\n",
              "      <th>4</th>\n",
              "      <td>4</td>\n",
              "      <td>AILA_Q5</td>\n",
              "      <td>[36, 144, 54, 121, 155]</td>\n",
              "    </tr>\n",
              "  </tbody>\n",
              "</table>\n",
              "</div>"
            ],
            "text/plain": [
              "   Unnamed: 0 query_no                 relevant\n",
              "0           0  AILA_Q1                  [9, 14]\n",
              "1           1  AILA_Q2                 [27, 22]\n",
              "2           2  AILA_Q3                      [1]\n",
              "3           3  AILA_Q4                    [182]\n",
              "4           4  AILA_Q5  [36, 144, 54, 121, 155]"
            ]
          },
          "metadata": {
            "tags": []
          },
          "execution_count": 69
        }
      ]
    },
    {
      "cell_type": "code",
      "metadata": {
        "colab": {
          "base_uri": "https://localhost:8080/",
          "height": 1000
        },
        "id": "CkhcilL0rj8A",
        "outputId": "fefc564e-5ff2-43b3-e3bc-6af7e0130cc0"
      },
      "source": [
        "print(\"\\nBag of Words result—\\n\")\n",
        "ans=[]\n",
        "Q=50\n",
        "for i,row in qdf.iterrows():\n",
        "  tfidf_list=row['top_k_docs']\n",
        "  given=json.loads(rel_df.iloc[i]['relevant'])\n",
        "  matches=0 \n",
        "  for ele in tfidf_list:\n",
        "    if(ele in given):\n",
        "      matches+=1\n",
        "  precision_at_k=round(matches/relevant_k,2)\n",
        "  recall_at_k=round(matches/len(given),2)\n",
        "  ans.append({\"index\":\"AILA_Q\"+str(i+1),\"top_k\":tfidf_list,\"relevant\":given,\"precision@k\":precision_at_k,\"recall@k\":recall_at_k})\n",
        "\n",
        "\n",
        "\n",
        "ans_df=pd.DataFrame(ans)\n",
        "print(ans_df)\n",
        "ans_df.to_csv('tfidf_eval.csv') \n",
        "files.download('tfidf_eval.csv')\n",
        "ap=ans_df[\"precision@k\"].sum()/Q\n",
        "ar=ans_df[\"recall@k\"].sum()/Q\n",
        "print(\"The Avg. precision@k for all queries— \",ap)\n",
        "print(\"The Avg. recall@k for all queries— \",ar)\n",
        "f_score=(2*ap*ar)/ (ap+ar)\n",
        "print(\"The F-score is \",f_score)"
      ],
      "execution_count": null,
      "outputs": [
        {
          "output_type": "stream",
          "text": [
            "\n",
            "Bag of Words result—\n",
            "\n",
            "       index                           top_k  ... precision@k  recall@k\n",
            "0    AILA_Q1   [1106, 270, 1921, 2280, 1822]  ...         0.0      0.00\n",
            "1    AILA_Q2    [1963, 1465, 2408, 736, 641]  ...         0.0      0.00\n",
            "2    AILA_Q3   [2207, 2505, 1885, 1039, 846]  ...         0.0      0.00\n",
            "3    AILA_Q4     [943, 105, 1920, 1013, 717]  ...         0.0      0.00\n",
            "4    AILA_Q5    [600, 2272, 1235, 1363, 489]  ...         0.0      0.00\n",
            "5    AILA_Q6        [590, 294, 62, 553, 470]  ...         0.0      0.00\n",
            "6    AILA_Q7   [1077, 1055, 1002, 703, 1261]  ...         0.0      0.00\n",
            "7    AILA_Q8   [2632, 599, 1653, 2709, 1293]  ...         0.0      0.00\n",
            "8    AILA_Q9   [2000, 1105, 1159, 2033, 489]  ...         0.0      0.00\n",
            "9   AILA_Q10   [1408, 119, 2386, 1926, 1959]  ...         0.0      0.00\n",
            "10  AILA_Q11   [1925, 2617, 396, 2221, 1938]  ...         0.0      0.00\n",
            "11  AILA_Q12    [2359, 2137, 1289, 918, 123]  ...         0.0      0.00\n",
            "12  AILA_Q13   [1825, 200, 1572, 1715, 1436]  ...         0.0      0.00\n",
            "13  AILA_Q14   [265, 2316, 1105, 1212, 1960]  ...         0.0      0.00\n",
            "14  AILA_Q15    [2135, 1876, 823, 2014, 187]  ...         0.0      0.00\n",
            "15  AILA_Q16   [599, 2640, 1534, 2709, 2159]  ...         0.0      0.00\n",
            "16  AILA_Q17   [1289, 396, 1638, 1387, 2816]  ...         0.0      0.00\n",
            "17  AILA_Q18     [879, 180, 1503, 979, 2294]  ...         0.0      0.00\n",
            "18  AILA_Q19    [407, 2824, 986, 1988, 1395]  ...         0.0      0.00\n",
            "19  AILA_Q20   [184, 2658, 1180, 2567, 1724]  ...         0.0      0.00\n",
            "20  AILA_Q21      [147, 158, 249, 1535, 115]  ...         0.0      0.00\n",
            "21  AILA_Q22   [1225, 2567, 1414, 307, 1914]  ...         0.0      0.00\n",
            "22  AILA_Q23   [2820, 1760, 2086, 1119, 461]  ...         0.0      0.00\n",
            "23  AILA_Q24   [1582, 1627, 2646, 2032, 430]  ...         0.0      0.00\n",
            "24  AILA_Q25       [89, 28, 252, 1598, 2078]  ...         0.0      0.00\n",
            "25  AILA_Q26    [474, 1995, 2408, 2843, 747]  ...         0.0      0.00\n",
            "26  AILA_Q27     [2816, 1504, 50, 486, 1925]  ...         0.0      0.00\n",
            "27  AILA_Q28    [891, 307, 1643, 2501, 2658]  ...         0.0      0.00\n",
            "28  AILA_Q29    [2315, 2640, 1724, 138, 966]  ...         0.2      0.05\n",
            "29  AILA_Q30    [368, 2285, 614, 2309, 2731]  ...         0.0      0.00\n",
            "30  AILA_Q31  [1200, 2280, 1798, 1009, 1674]  ...         0.0      0.00\n",
            "31  AILA_Q32     [2632, 138, 1724, 599, 905]  ...         0.0      0.00\n",
            "32  AILA_Q33   [891, 1330, 2051, 1627, 1513]  ...         0.0      0.00\n",
            "33  AILA_Q34    [1013, 1794, 2174, 528, 754]  ...         0.0      0.00\n",
            "34  AILA_Q35     [636, 138, 2640, 601, 1597]  ...         0.0      0.00\n",
            "35  AILA_Q36      [2216, 158, 539, 58, 1852]  ...         0.0      0.00\n",
            "36  AILA_Q37    [1819, 1516, 886, 1146, 853]  ...         0.0      0.00\n",
            "37  AILA_Q38   [486, 1814, 1660, 2280, 1460]  ...         0.0      0.00\n",
            "38  AILA_Q39     [27, 2540, 1194, 1105, 288]  ...         0.0      0.00\n",
            "39  AILA_Q40     [1416, 1398, 96, 530, 2895]  ...         0.0      0.00\n",
            "40  AILA_Q41     [644, 1516, 573, 2167, 606]  ...         0.0      0.00\n",
            "41  AILA_Q42    [747, 1724, 1627, 2646, 360]  ...         0.0      0.00\n",
            "42  AILA_Q43    [943, 1013, 2715, 717, 1665]  ...         0.0      0.00\n",
            "43  AILA_Q44     [661, 1422, 32, 1443, 2813]  ...         0.0      0.00\n",
            "44  AILA_Q45    [138, 184, 1724, 1180, 2315]  ...         0.0      0.00\n",
            "45  AILA_Q46   [2596, 702, 1918, 1577, 1026]  ...         0.0      0.00\n",
            "46  AILA_Q47      [62, 294, 2186, 1516, 418]  ...         0.0      0.00\n",
            "47  AILA_Q48   [1224, 2019, 2716, 743, 2096]  ...         0.0      0.00\n",
            "48  AILA_Q49   [905, 1106, 1921, 2646, 1078]  ...         0.0      0.00\n",
            "49  AILA_Q50    [1963, 1465, 1348, 641, 183]  ...         0.0      0.00\n",
            "\n",
            "[50 rows x 5 columns]\n"
          ],
          "name": "stdout"
        },
        {
          "output_type": "display_data",
          "data": {
            "application/javascript": [
              "\n",
              "    async function download(id, filename, size) {\n",
              "      if (!google.colab.kernel.accessAllowed) {\n",
              "        return;\n",
              "      }\n",
              "      const div = document.createElement('div');\n",
              "      const label = document.createElement('label');\n",
              "      label.textContent = `Downloading \"${filename}\": `;\n",
              "      div.appendChild(label);\n",
              "      const progress = document.createElement('progress');\n",
              "      progress.max = size;\n",
              "      div.appendChild(progress);\n",
              "      document.body.appendChild(div);\n",
              "\n",
              "      const buffers = [];\n",
              "      let downloaded = 0;\n",
              "\n",
              "      const channel = await google.colab.kernel.comms.open(id);\n",
              "      // Send a message to notify the kernel that we're ready.\n",
              "      channel.send({})\n",
              "\n",
              "      for await (const message of channel.messages) {\n",
              "        // Send a message to notify the kernel that we're ready.\n",
              "        channel.send({})\n",
              "        if (message.buffers) {\n",
              "          for (const buffer of message.buffers) {\n",
              "            buffers.push(buffer);\n",
              "            downloaded += buffer.byteLength;\n",
              "            progress.value = downloaded;\n",
              "          }\n",
              "        }\n",
              "      }\n",
              "      const blob = new Blob(buffers, {type: 'application/binary'});\n",
              "      const a = document.createElement('a');\n",
              "      a.href = window.URL.createObjectURL(blob);\n",
              "      a.download = filename;\n",
              "      div.appendChild(a);\n",
              "      a.click();\n",
              "      div.remove();\n",
              "    }\n",
              "  "
            ],
            "text/plain": [
              "<IPython.core.display.Javascript object>"
            ]
          },
          "metadata": {
            "tags": []
          }
        },
        {
          "output_type": "display_data",
          "data": {
            "application/javascript": [
              "download(\"download_b7e822dd-0168-40bf-ab3a-02a0a5e77c93\", \"tfidf_eval.csv\", 3569)"
            ],
            "text/plain": [
              "<IPython.core.display.Javascript object>"
            ]
          },
          "metadata": {
            "tags": []
          }
        },
        {
          "output_type": "stream",
          "text": [
            "The Avg. precision@k for all queries—  0.004\n",
            "The Avg. recall@k for all queries—  0.001\n",
            "The F-score is  0.0015999999999999999\n"
          ],
          "name": "stdout"
        }
      ]
    },
    {
      "cell_type": "markdown",
      "metadata": {
        "id": "AsEvytukwDKb"
      },
      "source": [
        "\n",
        "**Approach 2 : TF-IDF**"
      ]
    },
    {
      "cell_type": "code",
      "metadata": {
        "colab": {
          "base_uri": "https://localhost:8080/"
        },
        "id": "dlXFxfCow7EJ",
        "outputId": "695cd491-ba19-468c-cd28-2c065cf75a3e"
      },
      "source": [
        "from sklearn.feature_extraction.text import TfidfVectorizer\n",
        "\n",
        "vec=TfidfVectorizer(max_features=5000,use_idf=True,stop_words='english',min_df = 0.01,max_df=0.7)\n",
        "tfIdf = vec.fit_transform(l1)\n",
        "\n",
        "tfidf_df = pd.DataFrame(tfIdf[0].T.todense(), index=vec.get_feature_names(), columns=[\"TF-IDF\"])\n",
        "tfidf_df = tfidf_df.sort_values('TF-IDF', ascending=False)\n",
        "print (tfidf_df)"
      ],
      "execution_count": null,
      "outputs": [
        {
          "output_type": "stream",
          "text": [
            "               TF-IDF\n",
            "foreign      0.456437\n",
            "estoppel     0.358605\n",
            "petition     0.308926\n",
            "crown        0.195099\n",
            "khan         0.172664\n",
            "...               ...\n",
            "dig          0.000000\n",
            "difficulti   0.000000\n",
            "difficult    0.000000\n",
            "differentia  0.000000\n",
            "zone         0.000000\n",
            "\n",
            "[5000 rows x 1 columns]\n"
          ],
          "name": "stdout"
        }
      ]
    },
    {
      "cell_type": "code",
      "metadata": {
        "colab": {
          "base_uri": "https://localhost:8080/"
        },
        "id": "rG1Hnr3gyf4N",
        "outputId": "68164158-31a5-4479-f148-95c68d84a0b0"
      },
      "source": [
        "cleaned_q_tfidf=[]\n",
        "tfidf_rel_docs=[] #top k relevant docs per query! \n",
        "idx=0\n",
        "for line in queries:\n",
        "    idx+=1\n",
        "    #clean query\n",
        "    tokens=remove_stop_words_and_lemmatize(line)\n",
        "    tfidf_q_string=' '.join(tokens)\n",
        "    cleaned_q_tfidf.append(tfidf_q_string)\n",
        "    tfidf_q_vec = vec.transform(cleaned_q_tfidf)\n",
        "    tfidf_results = cosine_similarity(tfIdf,tfidf_q_vec)\n",
        "    tdidf_cosine_similarities=[]\n",
        "    for doc_index in range(N):\n",
        "      cosine_similarities.append((tfidf_results[doc_index][0],doc_index+1))\n",
        "    top_k=sorted(cosine_similarities,key=lambda x:x[0],reverse=True)[:relevant_k] #top k docs sorted by cosine similarity\n",
        "    top_k_docs=[doc_idx for cs,doc_idx in top_k] #store only the doc indices\n",
        "    tfidf_rel_docs.append(top_k_docs)\n",
        "  \n",
        "\n",
        "\n",
        "print(\"Printing queries and top k relevant docs by TF-IDF and cosine similarity\\n\")\n",
        "qdf[\"query_string\"]=cleaned_q_tfidf\n",
        "qdf[\"top_k_docs\"]=tfidf_rel_docs\n",
        "print(qdf)"
      ],
      "execution_count": null,
      "outputs": [
        {
          "output_type": "stream",
          "text": [
            "Printing queries and top k relevant docs by TF-IDF and cosine similarity\n",
            "\n",
            "     Column1  ...                   top_k_docs\n",
            "0    AILA_Q1  ...  [2895, 77, 1545, 1828, 979]\n",
            "1    AILA_Q2  ...  [2895, 77, 1545, 1828, 979]\n",
            "2    AILA_Q3  ...  [2895, 77, 1545, 1828, 979]\n",
            "3    AILA_Q4  ...  [2895, 77, 1545, 1828, 979]\n",
            "4    AILA_Q5  ...  [2895, 77, 1545, 1828, 979]\n",
            "5    AILA_Q6  ...  [2895, 77, 1545, 1828, 979]\n",
            "6    AILA_Q7  ...  [2895, 77, 1545, 1828, 979]\n",
            "7    AILA_Q8  ...  [2895, 77, 1545, 1828, 979]\n",
            "8    AILA_Q9  ...  [2895, 77, 1545, 1828, 979]\n",
            "9   AILA_Q10  ...  [2895, 77, 1545, 1828, 979]\n",
            "10  AILA_Q11  ...  [2895, 77, 1545, 1828, 979]\n",
            "11  AILA_Q12  ...  [2895, 77, 1545, 1828, 979]\n",
            "12  AILA_Q13  ...  [2895, 77, 1545, 1828, 979]\n",
            "13  AILA_Q14  ...  [2895, 77, 1545, 1828, 979]\n",
            "14  AILA_Q15  ...  [2895, 77, 1545, 1828, 979]\n",
            "15  AILA_Q16  ...  [2895, 77, 1545, 1828, 979]\n",
            "16  AILA_Q17  ...  [2895, 77, 1545, 1828, 979]\n",
            "17  AILA_Q18  ...  [2895, 77, 1545, 1828, 979]\n",
            "18  AILA_Q19  ...  [2895, 77, 1545, 1828, 979]\n",
            "19  AILA_Q20  ...  [2895, 77, 1545, 1828, 979]\n",
            "20  AILA_Q21  ...  [2895, 77, 1545, 1828, 979]\n",
            "21  AILA_Q22  ...  [2895, 77, 1545, 1828, 979]\n",
            "22  AILA_Q23  ...  [2895, 77, 1545, 1828, 979]\n",
            "23  AILA_Q24  ...  [2895, 77, 1545, 1828, 979]\n",
            "24  AILA_Q25  ...  [2895, 77, 1545, 1828, 979]\n",
            "25  AILA_Q26  ...  [2895, 77, 1545, 1828, 979]\n",
            "26  AILA_Q27  ...  [2895, 77, 1545, 1828, 979]\n",
            "27  AILA_Q28  ...  [2895, 77, 1545, 1828, 979]\n",
            "28  AILA_Q29  ...  [2895, 77, 1545, 1828, 979]\n",
            "29  AILA_Q30  ...  [2895, 77, 1545, 1828, 979]\n",
            "30  AILA_Q31  ...  [2895, 77, 1545, 1828, 979]\n",
            "31  AILA_Q32  ...  [2895, 77, 1545, 1828, 979]\n",
            "32  AILA_Q33  ...  [2895, 77, 1545, 1828, 979]\n",
            "33  AILA_Q34  ...  [2895, 77, 1545, 1828, 979]\n",
            "34  AILA_Q35  ...  [2895, 77, 1545, 1828, 979]\n",
            "35  AILA_Q36  ...  [2895, 77, 1545, 1828, 979]\n",
            "36  AILA_Q37  ...  [2895, 77, 1545, 1828, 979]\n",
            "37  AILA_Q38  ...  [2895, 77, 1545, 1828, 979]\n",
            "38  AILA_Q39  ...  [2895, 77, 1545, 1828, 979]\n",
            "39  AILA_Q40  ...  [2895, 77, 1545, 1828, 979]\n",
            "40  AILA_Q41  ...  [2895, 77, 1545, 1828, 979]\n",
            "41  AILA_Q42  ...  [2895, 77, 1545, 1828, 979]\n",
            "42  AILA_Q43  ...  [2895, 77, 1545, 1828, 979]\n",
            "43  AILA_Q44  ...  [2895, 77, 1545, 1828, 979]\n",
            "44  AILA_Q45  ...  [2895, 77, 1545, 1828, 979]\n",
            "45  AILA_Q46  ...  [2895, 77, 1545, 1828, 979]\n",
            "46  AILA_Q47  ...  [2895, 77, 1545, 1828, 979]\n",
            "47  AILA_Q48  ...  [2895, 77, 1545, 1828, 979]\n",
            "48  AILA_Q49  ...  [2895, 77, 1545, 1828, 979]\n",
            "49  AILA_Q50  ...  [2895, 77, 1545, 1828, 979]\n",
            "\n",
            "[50 rows x 5 columns]\n"
          ],
          "name": "stdout"
        }
      ]
    },
    {
      "cell_type": "markdown",
      "metadata": {
        "id": "dNWu7qTF52cU"
      },
      "source": [
        "Evaluation Measures"
      ]
    },
    {
      "cell_type": "code",
      "metadata": {
        "colab": {
          "base_uri": "https://localhost:8080/",
          "height": 1000
        },
        "id": "tgFGzgO90DpI",
        "outputId": "9dcdb470-0af7-4303-b775-9f2cff475203"
      },
      "source": [
        "print(\"\\nTFIDF result—\\n\")\n",
        "ans=[]\n",
        "Q=50\n",
        "for i,row in qdf.iterrows():\n",
        "  tfidf_list=row['top_k_docs']\n",
        "  given=json.loads(rel_df.iloc[i]['relevant'])\n",
        "  matches=0 \n",
        "  for ele in tfidf_list:\n",
        "    if(ele in given):\n",
        "      matches+=1\n",
        "  precision_at_k=round(matches/relevant_k,2)\n",
        "  recall_at_k=round(matches/len(given),2)\n",
        "  ans.append({\"index\":\"AILA_Q\"+str(i+1),\"top_k\":tfidf_list,\"relevant\":given,\"precision@k\":precision_at_k,\"recall@k\":recall_at_k})\n",
        "\n",
        "\n",
        "\n",
        "ans_df=pd.DataFrame(ans)\n",
        "print(ans_df)\n",
        "ans_df.to_csv('tfidf_eval.csv') \n",
        "files.download('tfidf_eval.csv')\n",
        "ap=ans_df[\"precision@k\"].sum()/Q\n",
        "ar=ans_df[\"recall@k\"].sum()/Q\n",
        "print(\"The Avg. precision@k for all queries— \",ap)\n",
        "print(\"The Avg. recall@k for all queries— \",ar)\n",
        "f_score=(2*ap*ar)/ (ap+ar)\n",
        "print(\"The F-score is \",f_score)"
      ],
      "execution_count": null,
      "outputs": [
        {
          "output_type": "stream",
          "text": [
            "\n",
            "TFIDF result—\n",
            "\n",
            "       index                        top_k  ... precision@k  recall@k\n",
            "0    AILA_Q1  [2895, 77, 1545, 1828, 979]  ...         0.0      0.00\n",
            "1    AILA_Q2  [2895, 77, 1545, 1828, 979]  ...         0.0      0.00\n",
            "2    AILA_Q3  [2895, 77, 1545, 1828, 979]  ...         0.0      0.00\n",
            "3    AILA_Q4  [2895, 77, 1545, 1828, 979]  ...         0.0      0.00\n",
            "4    AILA_Q5  [2895, 77, 1545, 1828, 979]  ...         0.0      0.00\n",
            "5    AILA_Q6  [2895, 77, 1545, 1828, 979]  ...         0.0      0.00\n",
            "6    AILA_Q7  [2895, 77, 1545, 1828, 979]  ...         0.0      0.00\n",
            "7    AILA_Q8  [2895, 77, 1545, 1828, 979]  ...         0.0      0.00\n",
            "8    AILA_Q9  [2895, 77, 1545, 1828, 979]  ...         0.0      0.00\n",
            "9   AILA_Q10  [2895, 77, 1545, 1828, 979]  ...         0.0      0.00\n",
            "10  AILA_Q11  [2895, 77, 1545, 1828, 979]  ...         0.0      0.00\n",
            "11  AILA_Q12  [2895, 77, 1545, 1828, 979]  ...         0.0      0.00\n",
            "12  AILA_Q13  [2895, 77, 1545, 1828, 979]  ...         0.0      0.00\n",
            "13  AILA_Q14  [2895, 77, 1545, 1828, 979]  ...         0.0      0.00\n",
            "14  AILA_Q15  [2895, 77, 1545, 1828, 979]  ...         0.0      0.00\n",
            "15  AILA_Q16  [2895, 77, 1545, 1828, 979]  ...         0.0      0.00\n",
            "16  AILA_Q17  [2895, 77, 1545, 1828, 979]  ...         0.0      0.00\n",
            "17  AILA_Q18  [2895, 77, 1545, 1828, 979]  ...         0.0      0.00\n",
            "18  AILA_Q19  [2895, 77, 1545, 1828, 979]  ...         0.2      0.25\n",
            "19  AILA_Q20  [2895, 77, 1545, 1828, 979]  ...         0.0      0.00\n",
            "20  AILA_Q21  [2895, 77, 1545, 1828, 979]  ...         0.0      0.00\n",
            "21  AILA_Q22  [2895, 77, 1545, 1828, 979]  ...         0.0      0.00\n",
            "22  AILA_Q23  [2895, 77, 1545, 1828, 979]  ...         0.0      0.00\n",
            "23  AILA_Q24  [2895, 77, 1545, 1828, 979]  ...         0.0      0.00\n",
            "24  AILA_Q25  [2895, 77, 1545, 1828, 979]  ...         0.0      0.00\n",
            "25  AILA_Q26  [2895, 77, 1545, 1828, 979]  ...         0.0      0.00\n",
            "26  AILA_Q27  [2895, 77, 1545, 1828, 979]  ...         0.0      0.00\n",
            "27  AILA_Q28  [2895, 77, 1545, 1828, 979]  ...         0.0      0.00\n",
            "28  AILA_Q29  [2895, 77, 1545, 1828, 979]  ...         0.0      0.00\n",
            "29  AILA_Q30  [2895, 77, 1545, 1828, 979]  ...         0.0      0.00\n",
            "30  AILA_Q31  [2895, 77, 1545, 1828, 979]  ...         0.0      0.00\n",
            "31  AILA_Q32  [2895, 77, 1545, 1828, 979]  ...         0.0      0.00\n",
            "32  AILA_Q33  [2895, 77, 1545, 1828, 979]  ...         0.0      0.00\n",
            "33  AILA_Q34  [2895, 77, 1545, 1828, 979]  ...         0.0      0.00\n",
            "34  AILA_Q35  [2895, 77, 1545, 1828, 979]  ...         0.0      0.00\n",
            "35  AILA_Q36  [2895, 77, 1545, 1828, 979]  ...         0.0      0.00\n",
            "36  AILA_Q37  [2895, 77, 1545, 1828, 979]  ...         0.0      0.00\n",
            "37  AILA_Q38  [2895, 77, 1545, 1828, 979]  ...         0.0      0.00\n",
            "38  AILA_Q39  [2895, 77, 1545, 1828, 979]  ...         0.0      0.00\n",
            "39  AILA_Q40  [2895, 77, 1545, 1828, 979]  ...         0.0      0.00\n",
            "40  AILA_Q41  [2895, 77, 1545, 1828, 979]  ...         0.0      0.00\n",
            "41  AILA_Q42  [2895, 77, 1545, 1828, 979]  ...         0.0      0.00\n",
            "42  AILA_Q43  [2895, 77, 1545, 1828, 979]  ...         0.0      0.00\n",
            "43  AILA_Q44  [2895, 77, 1545, 1828, 979]  ...         0.0      0.00\n",
            "44  AILA_Q45  [2895, 77, 1545, 1828, 979]  ...         0.0      0.00\n",
            "45  AILA_Q46  [2895, 77, 1545, 1828, 979]  ...         0.0      0.00\n",
            "46  AILA_Q47  [2895, 77, 1545, 1828, 979]  ...         0.0      0.00\n",
            "47  AILA_Q48  [2895, 77, 1545, 1828, 979]  ...         0.0      0.00\n",
            "48  AILA_Q49  [2895, 77, 1545, 1828, 979]  ...         0.0      0.00\n",
            "49  AILA_Q50  [2895, 77, 1545, 1828, 979]  ...         0.0      0.00\n",
            "\n",
            "[50 rows x 5 columns]\n"
          ],
          "name": "stdout"
        },
        {
          "output_type": "display_data",
          "data": {
            "application/javascript": [
              "\n",
              "    async function download(id, filename, size) {\n",
              "      if (!google.colab.kernel.accessAllowed) {\n",
              "        return;\n",
              "      }\n",
              "      const div = document.createElement('div');\n",
              "      const label = document.createElement('label');\n",
              "      label.textContent = `Downloading \"${filename}\": `;\n",
              "      div.appendChild(label);\n",
              "      const progress = document.createElement('progress');\n",
              "      progress.max = size;\n",
              "      div.appendChild(progress);\n",
              "      document.body.appendChild(div);\n",
              "\n",
              "      const buffers = [];\n",
              "      let downloaded = 0;\n",
              "\n",
              "      const channel = await google.colab.kernel.comms.open(id);\n",
              "      // Send a message to notify the kernel that we're ready.\n",
              "      channel.send({})\n",
              "\n",
              "      for await (const message of channel.messages) {\n",
              "        // Send a message to notify the kernel that we're ready.\n",
              "        channel.send({})\n",
              "        if (message.buffers) {\n",
              "          for (const buffer of message.buffers) {\n",
              "            buffers.push(buffer);\n",
              "            downloaded += buffer.byteLength;\n",
              "            progress.value = downloaded;\n",
              "          }\n",
              "        }\n",
              "      }\n",
              "      const blob = new Blob(buffers, {type: 'application/binary'});\n",
              "      const a = document.createElement('a');\n",
              "      a.href = window.URL.createObjectURL(blob);\n",
              "      a.download = filename;\n",
              "      div.appendChild(a);\n",
              "      a.click();\n",
              "      div.remove();\n",
              "    }\n",
              "  "
            ],
            "text/plain": [
              "<IPython.core.display.Javascript object>"
            ]
          },
          "metadata": {
            "tags": []
          }
        },
        {
          "output_type": "display_data",
          "data": {
            "application/javascript": [
              "download(\"download_86a1f181-4a0f-4672-bea8-3a2768363c6b\", \"tfidf_eval.csv\", 3519)"
            ],
            "text/plain": [
              "<IPython.core.display.Javascript object>"
            ]
          },
          "metadata": {
            "tags": []
          }
        },
        {
          "output_type": "stream",
          "text": [
            "The Avg. precision@k for all queries—  0.004\n",
            "The Avg. recall@k for all queries—  0.005\n",
            "The F-score is  0.0044444444444444444\n"
          ],
          "name": "stdout"
        }
      ]
    }
  ]
}