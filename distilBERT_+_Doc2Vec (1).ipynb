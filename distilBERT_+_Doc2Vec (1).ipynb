{
  "nbformat": 4,
  "nbformat_minor": 0,
  "metadata": {
    "colab": {
      "name": "distilBERT + Doc2Vec.ipynb",
      "provenance": [],
      "collapsed_sections": []
    },
    "kernelspec": {
      "name": "python3",
      "display_name": "Python 3"
    },
    "accelerator": "GPU"
  },
  "cells": [
    {
      "cell_type": "markdown",
      "metadata": {
        "id": "GHMG6lvAMRGZ"
      },
      "source": [
        "**Doc2Vec and distilBERT**"
      ]
    },
    {
      "cell_type": "code",
      "metadata": {
        "colab": {
          "base_uri": "https://localhost:8080/"
        },
        "id": "h0KG0sYh0Jkg",
        "outputId": "ae79e9b1-36c9-44f3-d7a6-41c884306c1d"
      },
      "source": [
        "#Using the GPU\n",
        "import torch\n",
        "if torch.cuda.is_available():    \n",
        "\n",
        "    # Tell PyTorch to use the GPU.    \n",
        "    device = torch.device(\"cuda\")\n",
        "\n",
        "    print('There are %d GPU(s) available.' % torch.cuda.device_count())\n",
        "\n",
        "    print('We will use the GPU:', torch.cuda.get_device_name(0))\n",
        "\n",
        "# If not...\n",
        "else:\n",
        "    print('No GPU available, using the CPU instead.')\n",
        "    device = torch.device(\"cpu\")"
      ],
      "execution_count": null,
      "outputs": [
        {
          "output_type": "stream",
          "text": [
            "There are 1 GPU(s) available.\n",
            "We will use the GPU: Tesla T4\n"
          ],
          "name": "stdout"
        }
      ]
    },
    {
      "cell_type": "code",
      "metadata": {
        "colab": {
          "resources": {
            "http://localhost:8080/nbextensions/google.colab/files.js": {
              "data": "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",
              "ok": true,
              "headers": [
                [
                  "content-type",
                  "application/javascript"
                ]
              ],
              "status": 200,
              "status_text": ""
            }
          },
          "base_uri": "https://localhost:8080/",
          "height": 276
        },
        "id": "WpJvaeXjXCFB",
        "outputId": "3b8d2f12-b324-42f4-afa0-211c342bdb6c"
      },
      "source": [
        "import io\n",
        "from google.colab import files \n",
        "import pandas as pd\n",
        "uploaded = files.upload()\n",
        "df= pd.read_csv(io.BytesIO(uploaded['case_docs.csv']))\n",
        "documents=list(df['Content'])\n",
        "print(df['Content'])"
      ],
      "execution_count": null,
      "outputs": [
        {
          "output_type": "display_data",
          "data": {
            "text/html": [
              "\n",
              "     <input type=\"file\" id=\"files-05f5660b-69e9-4329-8fe1-03fc4aaa3728\" name=\"files[]\" multiple disabled\n",
              "        style=\"border:none\" />\n",
              "     <output id=\"result-05f5660b-69e9-4329-8fe1-03fc4aaa3728\">\n",
              "      Upload widget is only available when the cell has been executed in the\n",
              "      current browser session. Please rerun this cell to enable.\n",
              "      </output>\n",
              "      <script src=\"/nbextensions/google.colab/files.js\"></script> "
            ],
            "text/plain": [
              "<IPython.core.display.HTML object>"
            ]
          },
          "metadata": {
            "tags": []
          }
        },
        {
          "output_type": "stream",
          "text": [
            "Saving case_docs.csv to case_docs (1).csv\n",
            "0       Masud Khan v State Of Uttar Pradesh\\r\\nSupreme...\n",
            "1       Indian Oil Corporation v NEPC India Limited an...\n",
            "2       Gurpal Singh v State of Punjab and Others\\r\\nS...\n",
            "3       Budh Singh and Others v State of Uttar Pradesh...\n",
            "4       Anil Kumar v State of U.P.\\r\\nSupreme Court of...\n",
            "                              ...                        \n",
            "2909    Sukhram v State Of Maharashtra\\r\\nSupreme Cour...\n",
            "2910    Satvir v State Of Uttar Pradesh\\r\\nSupreme Cou...\n",
            "2911    Dharangadhara Chemical Works Limited v State o...\n",
            "2912    Central Bank of India v M. Sethumadhavan and o...\n",
            "2913    Som Raj @ Soma v State Of H.P.\\r\\nSupreme Cour...\n",
            "Name: Content, Length: 2914, dtype: object\n"
          ],
          "name": "stdout"
        }
      ]
    },
    {
      "cell_type": "code",
      "metadata": {
        "colab": {
          "resources": {
            "http://localhost:8080/nbextensions/google.colab/files.js": {
              "data": "Ly8gQ29weXJpZ2h0IDIwMTcgR29vZ2xlIExMQwovLwovLyBMaWNlbnNlZCB1bmRlciB0aGUgQXBhY2hlIExpY2Vuc2UsIFZlcnNpb24gMi4wICh0aGUgIkxpY2Vuc2UiKTsKLy8geW91IG1heSBub3QgdXNlIHRoaXMgZmlsZSBleGNlcHQgaW4gY29tcGxpYW5jZSB3aXRoIHRoZSBMaWNlbnNlLgovLyBZb3UgbWF5IG9idGFpbiBhIGNvcHkgb2YgdGhlIExpY2Vuc2UgYXQKLy8KLy8gICAgICBodHRwOi8vd3d3LmFwYWNoZS5vcmcvbGljZW5zZXMvTElDRU5TRS0yLjAKLy8KLy8gVW5sZXNzIHJlcXVpcmVkIGJ5IGFwcGxpY2FibGUgbGF3IG9yIGFncmVlZCB0byBpbiB3cml0aW5nLCBzb2Z0d2FyZQovLyBkaXN0cmlidXRlZCB1bmRlciB0aGUgTGljZW5zZSBpcyBkaXN0cmlidXRlZCBvbiBhbiAiQVMgSVMiIEJBU0lTLAovLyBXSVRIT1VUIFdBUlJBTlRJRVMgT1IgQ09ORElUSU9OUyBPRiBBTlkgS0lORCwgZWl0aGVyIGV4cHJlc3Mgb3IgaW1wbGllZC4KLy8gU2VlIHRoZSBMaWNlbnNlIGZvciB0aGUgc3BlY2lmaWMgbGFuZ3VhZ2UgZ292ZXJuaW5nIHBlcm1pc3Npb25zIGFuZAovLyBsaW1pdGF0aW9ucyB1bmRlciB0aGUgTGljZW5zZS4KCi8qKgogKiBAZmlsZW92ZXJ2aWV3IEhlbHBlcnMgZm9yIGdvb2dsZS5jb2xhYiBQeXRob24gbW9kdWxlLgogKi8KKGZ1bmN0aW9uKHNjb3BlKSB7CmZ1bmN0aW9uIHNwYW4odGV4dCwgc3R5bGVBdHRyaWJ1dGVzID0ge30pIHsKICBjb25zdCBlbGVtZW50ID0gZG9jdW1lbnQuY3JlYXRlRWxlbWVudCgnc3BhbicpOwogIGVsZW1lbnQudGV4dENvbnRlbnQgPSB0ZXh0OwogIGZvciAoY29uc3Qga2V5IG9mIE9iamVjdC5rZXlzKHN0eWxlQXR0cmlidXRlcykpIHsKICAgIGVsZW1lbnQuc3R5bGVba2V5XSA9IHN0eWxlQXR0cmlidXRlc1trZXldOwogIH0KICByZXR1cm4gZWxlbWVudDsKfQoKLy8gTWF4IG51bWJlciBvZiBieXRlcyB3aGljaCB3aWxsIGJlIHVwbG9hZGVkIGF0IGEgdGltZS4KY29uc3QgTUFYX1BBWUxPQURfU0laRSA9IDEwMCAqIDEwMjQ7CgpmdW5jdGlvbiBfdXBsb2FkRmlsZXMoaW5wdXRJZCwgb3V0cHV0SWQpIHsKICBjb25zdCBzdGVwcyA9IHVwbG9hZEZpbGVzU3RlcChpbnB1dElkLCBvdXRwdXRJZCk7CiAgY29uc3Qgb3V0cHV0RWxlbWVudCA9IGRvY3VtZW50LmdldEVsZW1lbnRCeUlkKG91dHB1dElkKTsKICAvLyBDYWNoZSBzdGVwcyBvbiB0aGUgb3V0cHV0RWxlbWVudCB0byBtYWtlIGl0IGF2YWlsYWJsZSBmb3IgdGhlIG5leHQgY2FsbAogIC8vIHRvIHVwbG9hZEZpbGVzQ29udGludWUgZnJvbSBQeXRob24uCiAgb3V0cHV0RWxlbWVudC5zdGVwcyA9IHN0ZXBzOwoKICByZXR1cm4gX3VwbG9hZEZpbGVzQ29udGludWUob3V0cHV0SWQpOwp9CgovLyBUaGlzIGlzIHJvdWdobHkgYW4gYXN5bmMgZ2VuZXJhdG9yIChub3Qgc3VwcG9ydGVkIGluIHRoZSBicm93c2VyIHlldCksCi8vIHdoZXJlIHRoZXJlIGFyZSBtdWx0aXBsZSBhc3luY2hyb25vdXMgc3RlcHMgYW5kIHRoZSBQeXRob24gc2lkZSBpcyBnb2luZwovLyB0byBwb2xsIGZvciBjb21wbGV0aW9uIG9mIGVhY2ggc3RlcC4KLy8gVGhpcyB1c2VzIGEgUHJvbWlzZSB0byBibG9jayB0aGUgcHl0aG9uIHNpZGUgb24gY29tcGxldGlvbiBvZiBlYWNoIHN0ZXAsCi8vIHRoZW4gcGFzc2VzIHRoZSByZXN1bHQgb2YgdGhlIHByZXZpb3VzIHN0ZXAgYXMgdGhlIGlucHV0IHRvIHRoZSBuZXh0IHN0ZXAuCmZ1bmN0aW9uIF91cGxvYWRGaWxlc0NvbnRpbnVlKG91dHB1dElkKSB7CiAgY29uc3Qgb3V0cHV0RWxlbWVudCA9IGRvY3VtZW50LmdldEVsZW1lbnRCeUlkKG91dHB1dElkKTsKICBjb25zdCBzdGVwcyA9IG91dHB1dEVsZW1lbnQuc3RlcHM7CgogIGNvbnN0IG5leHQgPSBzdGVwcy5uZXh0KG91dHB1dEVsZW1lbnQubGFzdFByb21pc2VWYWx1ZSk7CiAgcmV0dXJuIFByb21pc2UucmVzb2x2ZShuZXh0LnZhbHVlLnByb21pc2UpLnRoZW4oKHZhbHVlKSA9PiB7CiAgICAvLyBDYWNoZSB0aGUgbGFzdCBwcm9taXNlIHZhbHVlIHRvIG1ha2UgaXQgYXZhaWxhYmxlIHRvIHRoZSBuZXh0CiAgICAvLyBzdGVwIG9mIHRoZSBnZW5lcmF0b3IuCiAgICBvdXRwdXRFbGVtZW50Lmxhc3RQcm9taXNlVmFsdWUgPSB2YWx1ZTsKICAgIHJldHVybiBuZXh0LnZhbHVlLnJlc3BvbnNlOwogIH0pOwp9CgovKioKICogR2VuZXJhdG9yIGZ1bmN0aW9uIHdoaWNoIGlzIGNhbGxlZCBiZXR3ZWVuIGVhY2ggYXN5bmMgc3RlcCBvZiB0aGUgdXBsb2FkCiAqIHByb2Nlc3MuCiAqIEBwYXJhbSB7c3RyaW5nfSBpbnB1dElkIEVsZW1lbnQgSUQgb2YgdGhlIGlucHV0IGZpbGUgcGlja2VyIGVsZW1lbnQuCiAqIEBwYXJhbSB7c3RyaW5nfSBvdXRwdXRJZCBFbGVtZW50IElEIG9mIHRoZSBvdXRwdXQgZGlzcGxheS4KICogQHJldHVybiB7IUl0ZXJhYmxlPCFPYmplY3Q+fSBJdGVyYWJsZSBvZiBuZXh0IHN0ZXBzLgogKi8KZnVuY3Rpb24qIHVwbG9hZEZpbGVzU3RlcChpbnB1dElkLCBvdXRwdXRJZCkgewogIGNvbnN0IGlucHV0RWxlbWVudCA9IGRvY3VtZW50LmdldEVsZW1lbnRCeUlkKGlucHV0SWQpOwogIGlucHV0RWxlbWVudC5kaXNhYmxlZCA9IGZhbHNlOwoKICBjb25zdCBvdXRwdXRFbGVtZW50ID0gZG9jdW1lbnQuZ2V0RWxlbWVudEJ5SWQob3V0cHV0SWQpOwogIG91dHB1dEVsZW1lbnQuaW5uZXJIVE1MID0gJyc7CgogIGNvbnN0IHBpY2tlZFByb21pc2UgPSBuZXcgUHJvbWlzZSgocmVzb2x2ZSkgPT4gewogICAgaW5wdXRFbGVtZW50LmFkZEV2ZW50TGlzdGVuZXIoJ2NoYW5nZScsIChlKSA9PiB7CiAgICAgIHJlc29sdmUoZS50YXJnZXQuZmlsZXMpOwogICAgfSk7CiAgfSk7CgogIGNvbnN0IGNhbmNlbCA9IGRvY3VtZW50LmNyZWF0ZUVsZW1lbnQoJ2J1dHRvbicpOwogIGlucHV0RWxlbWVudC5wYXJlbnRFbGVtZW50LmFwcGVuZENoaWxkKGNhbmNlbCk7CiAgY2FuY2VsLnRleHRDb250ZW50ID0gJ0NhbmNlbCB1cGxvYWQnOwogIGNvbnN0IGNhbmNlbFByb21pc2UgPSBuZXcgUHJvbWlzZSgocmVzb2x2ZSkgPT4gewogICAgY2FuY2VsLm9uY2xpY2sgPSAoKSA9PiB7CiAgICAgIHJlc29sdmUobnVsbCk7CiAgICB9OwogIH0pOwoKICAvLyBXYWl0IGZvciB0aGUgdXNlciB0byBwaWNrIHRoZSBmaWxlcy4KICBjb25zdCBmaWxlcyA9IHlpZWxkIHsKICAgIHByb21pc2U6IFByb21pc2UucmFjZShbcGlja2VkUHJvbWlzZSwgY2FuY2VsUHJvbWlzZV0pLAogICAgcmVzcG9uc2U6IHsKICAgICAgYWN0aW9uOiAnc3RhcnRpbmcnLAogICAgfQogIH07CgogIGNhbmNlbC5yZW1vdmUoKTsKCiAgLy8gRGlzYWJsZSB0aGUgaW5wdXQgZWxlbWVudCBzaW5jZSBmdXJ0aGVyIHBpY2tzIGFyZSBub3QgYWxsb3dlZC4KICBpbnB1dEVsZW1lbnQuZGlzYWJsZWQgPSB0cnVlOwoKICBpZiAoIWZpbGVzKSB7CiAgICByZXR1cm4gewogICAgICByZXNwb25zZTogewogICAgICAgIGFjdGlvbjogJ2NvbXBsZXRlJywKICAgICAgfQogICAgfTsKICB9CgogIGZvciAoY29uc3QgZmlsZSBvZiBmaWxlcykgewogICAgY29uc3QgbGkgPSBkb2N1bWVudC5jcmVhdGVFbGVtZW50KCdsaScpOwogICAgbGkuYXBwZW5kKHNwYW4oZmlsZS5uYW1lLCB7Zm9udFdlaWdodDogJ2JvbGQnfSkpOwogICAgbGkuYXBwZW5kKHNwYW4oCiAgICAgICAgYCgke2ZpbGUudHlwZSB8fCAnbi9hJ30pIC0gJHtmaWxlLnNpemV9IGJ5dGVzLCBgICsKICAgICAgICBgbGFzdCBtb2RpZmllZDogJHsKICAgICAgICAgICAgZmlsZS5sYXN0TW9kaWZpZWREYXRlID8gZmlsZS5sYXN0TW9kaWZpZWREYXRlLnRvTG9jYWxlRGF0ZVN0cmluZygpIDoKICAgICAgICAgICAgICAgICAgICAgICAgICAgICAgICAgICAgJ24vYSd9IC0gYCkpOwogICAgY29uc3QgcGVyY2VudCA9IHNwYW4oJzAlIGRvbmUnKTsKICAgIGxpLmFwcGVuZENoaWxkKHBlcmNlbnQpOwoKICAgIG91dHB1dEVsZW1lbnQuYXBwZW5kQ2hpbGQobGkpOwoKICAgIGNvbnN0IGZpbGVEYXRhUHJvbWlzZSA9IG5ldyBQcm9taXNlKChyZXNvbHZlKSA9PiB7CiAgICAgIGNvbnN0IHJlYWRlciA9IG5ldyBGaWxlUmVhZGVyKCk7CiAgICAgIHJlYWRlci5vbmxvYWQgPSAoZSkgPT4gewogICAgICAgIHJlc29sdmUoZS50YXJnZXQucmVzdWx0KTsKICAgICAgfTsKICAgICAgcmVhZGVyLnJlYWRBc0FycmF5QnVmZmVyKGZpbGUpOwogICAgfSk7CiAgICAvLyBXYWl0IGZvciB0aGUgZGF0YSB0byBiZSByZWFkeS4KICAgIGxldCBmaWxlRGF0YSA9IHlpZWxkIHsKICAgICAgcHJvbWlzZTogZmlsZURhdGFQcm9taXNlLAogICAgICByZXNwb25zZTogewogICAgICAgIGFjdGlvbjogJ2NvbnRpbnVlJywKICAgICAgfQogICAgfTsKCiAgICAvLyBVc2UgYSBjaHVua2VkIHNlbmRpbmcgdG8gYXZvaWQgbWVzc2FnZSBzaXplIGxpbWl0cy4gU2VlIGIvNjIxMTU2NjAuCiAgICBsZXQgcG9zaXRpb24gPSAwOwogICAgd2hpbGUgKHBvc2l0aW9uIDwgZmlsZURhdGEuYnl0ZUxlbmd0aCkgewogICAgICBjb25zdCBsZW5ndGggPSBNYXRoLm1pbihmaWxlRGF0YS5ieXRlTGVuZ3RoIC0gcG9zaXRpb24sIE1BWF9QQVlMT0FEX1NJWkUpOwogICAgICBjb25zdCBjaHVuayA9IG5ldyBVaW50OEFycmF5KGZpbGVEYXRhLCBwb3NpdGlvbiwgbGVuZ3RoKTsKICAgICAgcG9zaXRpb24gKz0gbGVuZ3RoOwoKICAgICAgY29uc3QgYmFzZTY0ID0gYnRvYShTdHJpbmcuZnJvbUNoYXJDb2RlLmFwcGx5KG51bGwsIGNodW5rKSk7CiAgICAgIHlpZWxkIHsKICAgICAgICByZXNwb25zZTogewogICAgICAgICAgYWN0aW9uOiAnYXBwZW5kJywKICAgICAgICAgIGZpbGU6IGZpbGUubmFtZSwKICAgICAgICAgIGRhdGE6IGJhc2U2NCwKICAgICAgICB9LAogICAgICB9OwogICAgICBwZXJjZW50LnRleHRDb250ZW50ID0KICAgICAgICAgIGAke01hdGgucm91bmQoKHBvc2l0aW9uIC8gZmlsZURhdGEuYnl0ZUxlbmd0aCkgKiAxMDApfSUgZG9uZWA7CiAgICB9CiAgfQoKICAvLyBBbGwgZG9uZS4KICB5aWVsZCB7CiAgICByZXNwb25zZTogewogICAgICBhY3Rpb246ICdjb21wbGV0ZScsCiAgICB9CiAgfTsKfQoKc2NvcGUuZ29vZ2xlID0gc2NvcGUuZ29vZ2xlIHx8IHt9OwpzY29wZS5nb29nbGUuY29sYWIgPSBzY29wZS5nb29nbGUuY29sYWIgfHwge307CnNjb3BlLmdvb2dsZS5jb2xhYi5fZmlsZXMgPSB7CiAgX3VwbG9hZEZpbGVzLAogIF91cGxvYWRGaWxlc0NvbnRpbnVlLAp9Owp9KShzZWxmKTsK",
              "ok": true,
              "headers": [
                [
                  "content-type",
                  "application/javascript"
                ]
              ],
              "status": 200,
              "status_text": ""
            }
          },
          "base_uri": "https://localhost:8080/",
          "height": 973
        },
        "id": "MpwBsu_9ohMV",
        "outputId": "6c9b9685-41d6-4884-8e3d-e6f379a6ddee"
      },
      "source": [
        "\n",
        "#Query doc\n",
        "uploaded2 = files.upload()\n",
        "qdf= pd.read_csv(io.BytesIO(uploaded2['embedded_queries.csv']))\n",
        "queries=list(qdf['query'])\n",
        "print(qdf)"
      ],
      "execution_count": null,
      "outputs": [
        {
          "output_type": "display_data",
          "data": {
            "text/html": [
              "\n",
              "     <input type=\"file\" id=\"files-f93cc12e-7f8a-4220-899a-9f03b63c2189\" name=\"files[]\" multiple disabled\n",
              "        style=\"border:none\" />\n",
              "     <output id=\"result-f93cc12e-7f8a-4220-899a-9f03b63c2189\">\n",
              "      Upload widget is only available when the cell has been executed in the\n",
              "      current browser session. Please rerun this cell to enable.\n",
              "      </output>\n",
              "      <script src=\"/nbextensions/google.colab/files.js\"></script> "
            ],
            "text/plain": [
              "<IPython.core.display.HTML object>"
            ]
          },
          "metadata": {
            "tags": []
          }
        },
        {
          "output_type": "stream",
          "text": [
            "Saving embedded_queries.csv to embedded_queries.csv\n",
            "    Unnamed: 0  ...                                           relevant\n",
            "0            0  ...                                            [9, 14]\n",
            "1            1  ...                                           [27, 22]\n",
            "2            2  ...                                                [1]\n",
            "3            3  ...                                              [182]\n",
            "4            4  ...                            [36, 144, 54, 121, 155]\n",
            "5            5  ...                                  [152, 99, 26, 19]\n",
            "6            6  ...                                              [130]\n",
            "7            7  ...                                      [32, 60, 125]\n",
            "8            8  ...                                           [42, 90]\n",
            "9            9  ...                                     [185, 180, 86]\n",
            "10          10  ...                                         [131, 132]\n",
            "11          11  ...                                                [8]\n",
            "12          12  ...                                     [120, 40, 102]\n",
            "13          13  ...                                               [46]\n",
            "14          14  ...                                              [185]\n",
            "15          15  ...                                          [50, 166]\n",
            "16          16  ...                                      [145, 67, 23]\n",
            "17          17  ...                                              [188]\n",
            "18          18  ...                                  [89, 77, 142, 63]\n",
            "19          19  ...                                         [168, 134]\n",
            "20          20  ...                                 [48, 113, 114, 28]\n",
            "21          21  ...                                          [11, 118]\n",
            "22          22  ...                                           [88, 10]\n",
            "23          23  ...                                              [171]\n",
            "24          24  ...                          [41, 105, 15, 17, 84, 29]\n",
            "25          25  ...             [133, 44, 108, 115, 116, 179, 87, 183]\n",
            "26          26  ...                            [161, 136, 73, 175, 91]\n",
            "27          27  ...                                          [178, 71]\n",
            "28          28  ...  [4, 6, 138, 140, 24, 153, 156, 159, 34, 163, 3...\n",
            "29          29  ...     [97, 167, 137, 107, 80, 83, 148, 56, 154, 123]\n",
            "30          30  ...                                           [65, 93]\n",
            "31          31  ...                                     [122, 164, 94]\n",
            "32          32  ...                                              [186]\n",
            "33          33  ...  [33, 129, 3, 69, 165, 72, 13, 143, 49, 85, 181...\n",
            "34          34  ...                                          [184, 31]\n",
            "35          35  ...                        [160, 37, 172, 112, 55, 57]\n",
            "36          36  ...                                      [178, 18, 71]\n",
            "37          37  ...                           [101, 70, 110, 177, 149]\n",
            "38          38  ...  [128, 104, 169, 43, 12, 16, 146, 20, 53, 119, ...\n",
            "39          39  ...                                         [111, 135]\n",
            "40          40  ...                               [96, 98, 35, 52, 94]\n",
            "41          41  ...                                  [81, 2, 150, 103]\n",
            "42          42  ...                                    [157, 158, 151]\n",
            "43          43  ...                          [64, 7, 109, 45, 117, 61]\n",
            "44          44  ...                                           [58, 78]\n",
            "45          45  ...            [5, 170, 75, 106, 139, 47, 79, 147, 59]\n",
            "46          46  ...                                              [171]\n",
            "47          47  ...                                 [162, 82, 21, 141]\n",
            "48          48  ...                                  [38, 76, 174, 92]\n",
            "49          49  ...                                           [27, 22]\n",
            "\n",
            "[50 rows x 6 columns]\n"
          ],
          "name": "stdout"
        }
      ]
    },
    {
      "cell_type": "markdown",
      "metadata": {
        "id": "3v9pfdZJQWyP"
      },
      "source": [
        " **distilBERT**"
      ]
    },
    {
      "cell_type": "code",
      "metadata": {
        "colab": {
          "base_uri": "https://localhost:8080/"
        },
        "id": "IYyhz-Y4NWQ1",
        "outputId": "f9164608-89a4-4ddf-acd6-158dfe6f6c4d"
      },
      "source": [
        "#Cleaning the fetched documents,queries and removing unnecessary tokens\n",
        "#Trying doc2vec\n",
        "\n",
        "import nltk\n",
        "nltk.download('punkt')\n",
        "nltk.download('stopwords')\n",
        "from nltk.tokenize import word_tokenize\n",
        "import numpy as np\n",
        "from sklearn.metrics.pairwise import cosine_similarity\n",
        "from nltk.corpus import stopwords\n",
        "import string\n",
        "import pandas as pd\n",
        "import json\n",
        "def get_cleaned_doc(doc):\n",
        "  #maintains order and removes unnecessary words\n",
        "  doc=word_tokenize(doc.lower())\n",
        "  unnecessary = set(stopwords.words('english'))\n",
        "  for p in list(string.punctuation):\n",
        "    unnecessary.add(p)\n",
        "  cleaned=[i for i in doc if i not in unnecessary]\n",
        "  cleaned=[token for token in cleaned if not token.isdigit()] #remove numbers\n",
        "  return cleaned\n",
        "\n",
        "tokenized_documents=[get_cleaned_doc(d) for d in documents]\n",
        "documents=[\" \".join(d) for d in tokenized_documents]\n",
        "queries=[get_cleaned_doc(q) for q in queries] \n",
        "\n",
        "print(tokenized_documents[0])\n"
      ],
      "execution_count": null,
      "outputs": [
        {
          "output_type": "stream",
          "text": [
            "['masud', 'khan', 'v', 'state', 'uttar', 'pradesh', 'supreme', 'court', 'india', 'september', 'writ', 'petition', 'judgment', 'delivered', 'a.', 'alagiriswami', 'j', '1.', 'petitioner', 'masud', 'khan', 'prays', 'release', 'ground', 'indian', 'citizen', 'illegally', 'arrested', 'confined', 'jail', 'paragraph', 'foreigners', 'internment', 'order', '1962.', 'come', 'india', 'pakistan', 'basis', 'pakistani', 'passport', 'dated', '137-1954and', 'indian', 'visa', 'dated', '9-4-1956.', 'application', 'visa', 'stated', 'migrated', 'pakistan', 'government', 'service', 'pakistan', 'p.w.d', 'darogha', 'given', 'permanent', 'address', 'hyderabad', 'sind', '2.', 'statements', 'correct', 'petitioner', 'would', 'clearly', 'pakistani', 'national', 'fact', 'brought', 'counter', 'affidavit', 'filled', 'behalf', 'respondent', 'petitioner', 'filed', 'affidavit', 'stating', 'appointed', 'police', 'constable', 'hasanganj', 'police', 'station', 'district', 'fatehpur', 'u.p', 'february', 'continued', 'police', 'constable', 'till', 'middle', 'dismissed', 'service', 'went', 'pakistan', 'year', '1951.in', 'reply', 'affidavit', 'filed', 'behalf', 'respondent', 'stated', 'one', 'md', 'masood', 'khan', 'son', 'zahoor', 'khan', 'enrolled', 'police', 'constable', '16-9-1947', 'discharged', 'service', '20-5-1949.', 'fairly', 'clear', 'information', 'culled', 'english', 'order', 'book', '1-101947', '27-12-1951', 'refers', 'petitioner', 'therefore', 'established', 'petitioner', 'go', 'pakistan', 'said', 'established', 'petitioner', 'went', 'pakistan', '1951.when', 'went', 'pakistan', 'matter', 'peculiarly', 'within', 'knowledge', 'produced', 'evidence', 'support', 'statement', '3.', 'considering', 'frequent', 'change', 'ground', 'petitioner', 'resorted', 'mere', 'statement', 'accepted', 'true', 'accept', 'contention', 'respondent', 'establish', 'lie', 'go', 'pakistan', 'went', 'date', 'petitioner', 'also', 'alleged', 'married', 'u.p', '25th', 'december', '1949.even', 'assuming', 'statement', 'correct', 'petitioner', 'establish', 'citizen', 'india', 'unless', 'lie', 'succeeds', 'establishing', 'india', '26-1-1950.', 'bad', 'india', '26-1-1950', 'gone', 'pakistan', 'would', 'central', 'government', 'decide', 'whether', 'pakistani', 'national', 'indian', 'citizen', 'even', 'though', 'may', 'come', 'india', 'pakistani', 'passport', '1956.', 'question', 'arise', '4.', 'prepared', 'assume', 'petitioner', 'deemed', 'present', 'india', '26-1-1950', 'urged', 'behalf', 'petitioner', 'room', 'presumption', 's-9', 'foreigners', 'act', 'whenever', 'question', 'arises', 'whether', 'person', 'foreigner', 'onus', 'proving', 'foreigner', 'lies', 'upon', 'burden', 'therefore', 'upon', 'petitioner', 'establish', 'citizen', 'india', 'manner', 'claimed', 'therefore', 'foreigner', 'burden', 'discharged', 'petitioner', 'held', 'foreigner', 'claim', 'indian', 'citizen', 'dealt', 'foreigners', 'internment', 'order', 'must', 'rejected', '5.', 'appears', 'however', 'prosecuted', 'sub-divisional', 'magistrate', 'fatehpur', 's.', 'foreigner', '--', 'act', 'acquitted', 'ground', 'foreigner', 'therefore', 'contended', 'question', 'whether', 'petitioner', '-a', 'foreigner', 'matter', 'issue', 'estoppels', 'decision', 'foreigner', 'seems', 'based', 'decision', 'allahabad', 'high', 'court', 'mohd', 'hanif', 'khan', 'v.', 'state', 'air', 'indlaw', '154it', 'held', 'pakistani', 'national', 'entered', 'india', 'amendment', 'foreigners', 'act', 'could', 'considered', 'foreigner', 'could', 'held', 'amendment', 'decision', 'learned', 'single', 'judge', 'point', 'issue', 'differed', 'earlier', 'decision', 'learned', 'single', 'judge', 'court', 'ali', 'sher', 'v.', 'state', 'air', 'indlaw', '153but', 'decided', 'case', 'different', 'point', 'think', 'necessary', 'refer', 'case', 'bench', 'considering', 'two', 'decisions', 'correct', 'question', 'regarding', 'nationality', 'person', 'came', 'india', 'pakistani', 'passport', '1957.', 'thus', 'two', 'conflicting', 'decisions', 'court', 'point', 'magistrate', 'decided', 'petitioner', \"'s\", 'case', 'followed', 'one', '6.', 'apart', 'matter', 'could', 'bedecided', 'another', 'point..', 'question', 'issue-estoppels', 'considered', 'court', 'pritam', 'singh', 'v.', 'state', 'punjab', 'air1956', 'sc', 'indlaw', 'sc', 'manipur', 'administration', 'v.', 'thokchom', 'bira', 'singh', 'scr', 'indlaw', 'sc', 'piara', 'singh', 's.', 'state', 'punjab', 'issue-estoppels', 'arises', 'earlier', 'well', 'subsequent', 'proceedings', 'criminal', 'prosecutions', 'present', 'case', 'earlier', 'one', 'criminal', 'prosecution', 'present', 'merely', 'action', 'taken', 'foreigners', 'internment', 'order', 'purpose', 'deporting', 'petitioner', 'india', '7.', 'nota', 'criminal', 'prosecution', 'principle', 'issue', 'estoppels', 'simply', 'issue', 'fact', 'tried', 'competent', 'court', 'former', 'occasion', 'finding', 'reached', 'favored', 'accused', 'finding', 'would', 'constitute', 'estoppels', 'res', 'judicator', 'prosecution', 'bar', 'trial', 'conviction', 'accused', 'different', 'distinct', 'offence', 'precluding', 'reception', 'evidence', 'disturb', 'finding', 'fact', 'accused', 'tried', 'subsequently', 'even', 'different', 'offence', 'might', 'permitted', 'law', 'pritam', 'singh', \"'s\", 'case', 'indlaw', 'sc', 'supra', 'based', 'decision', 'privy', 'council', 'sambasivam', 'v.', 'public', 'prosecutor', 'federation', 'malaya', 'a.c.', 'case', 'lord', 'mcdermott', 'speaking', 'board', 'said', \"''\", 'effect', 'verdict', 'acquittal', 'pronounced', 'competent', 'court', 'lawful', 'charge', 'lawful', 'trial', 'completely', 'stated', 'saying', 'person', 'acquitted', 'tried', 'offence', 'must', 'added', 'verdict', 'binding', 'conclusive', 'subsequent', 'proceedings', 'parties', 'adjudication', \"''\", 'bekept', 'clearly', 'mind', 'proceeding', 'referred', 'herein', 'criminal', 'prosecution', 'plea', 'issue-estoppels', 'plea', 'double', 'jeopardy', 'aura', 'foist', 'acquit', 'king', 'v.', 'wilkes', 'c.l.r.511', 'divon', 'j', '8.', 'referring', 'question', 'issue', 'estoppel', 'said', 'view', 'issue', 'estoppels', 'appears', 'record', 'explained', 'proper', 'evidence', 'point', 'determined', 'favour', 'prisoner', 'previous', 'criminal', 'trial', 'brought', 'issue', 'second', 'criminal', 'trial', 'prisoners', 'must', 'prior', 'proceeding', 'determined', 'crown', 'necessarily', 'involving', 'issue', 'arises', 'subsequent', 'proceeding', 'crown', 'prisoner', 'allegation', 'crown', 'subsequent', 'proceeding', 'must', 'inconsistent', 'acquittal', 'prisoner', 'previous', 'proceeding', 'condition', 'affairs', 'arises', 'see', 'reason', 'ordinary', 'rules', 'issue-estoppels', 'apply', 'issue-estoppels', 'concerned', 'judicial', 'establishment', 'proposition', 'law', 'fact', 'parties', 'depends', 'upon', 'well-known', 'doctrines', 'control', 'reiteration', 'issues', 'settled', 'prior', 'litigation', \"''\", '``', 'emphasis', 'would', 'seen', 'determination', 'criminal', 'liability', 'marz', 'v.', 'queen', 'c.l.r', 'high', 'court', 'australia', 'said', '``', 'crown', 'much', 'precluded', 'estoppels', 'judgment', 'criminal', 'proceedings', 'subject', 'civil', 'proceedings', 'laws', 'gives', 'effect', 'issue', 'estoppels', 'concerned', 'correctness', 'incorrectness', 'finding', 'amounts', 'estoppels', 'still', 'less', 'process', 'reasoning', 'finding', 'reached', 'fact', 'enough', 'issue', 'issues', 'distinctly', 'raised', 'found', 'done', 'long', 'finding', 'stands', 'subsequent', 'litigation', 'parties', 'allegations', 'legally', 'inconsistent', 'finding', 'may', 'made', 'one', \"''\", 'remembered', 'principle', 'applies', 'two', 'criminal', 'proceedings', 'proceeding', 'concerned', 'criminal', 'proceeding', 'therefore', 'hold', 'substance', 'contention']\n"
          ],
          "name": "stdout"
        }
      ]
    },
    {
      "cell_type": "code",
      "metadata": {
        "colab": {
          "base_uri": "https://localhost:8080/"
        },
        "id": "iSVPJb_jjG5L",
        "outputId": "26eca375-e436-48b5-d797-0efa8229d90d"
      },
      "source": [
        "!pip install -U sentence-transformers"
      ],
      "execution_count": null,
      "outputs": [
        {
          "output_type": "stream",
          "text": [
            "Collecting sentence-transformers\n",
            "\u001b[?25l  Downloading https://files.pythonhosted.org/packages/f5/5a/6e41e8383913dd2ba923cdcd02be2e03911595f4d2f9de559ecbed80d2d3/sentence-transformers-0.3.9.tar.gz (64kB)\n",
            "\u001b[K     |████████████████████████████████| 71kB 3.4MB/s \n",
            "\u001b[?25hCollecting transformers<3.6.0,>=3.1.0\n",
            "\u001b[?25l  Downloading https://files.pythonhosted.org/packages/3a/83/e74092e7f24a08d751aa59b37a9fc572b2e4af3918cb66f7766c3affb1b4/transformers-3.5.1-py3-none-any.whl (1.3MB)\n",
            "\u001b[K     |████████████████████████████████| 1.3MB 7.6MB/s \n",
            "\u001b[?25hRequirement already satisfied, skipping upgrade: tqdm in /usr/local/lib/python3.6/dist-packages (from sentence-transformers) (4.41.1)\n",
            "Requirement already satisfied, skipping upgrade: torch>=1.6.0 in /usr/local/lib/python3.6/dist-packages (from sentence-transformers) (1.7.0+cu101)\n",
            "Requirement already satisfied, skipping upgrade: numpy in /usr/local/lib/python3.6/dist-packages (from sentence-transformers) (1.19.4)\n",
            "Requirement already satisfied, skipping upgrade: scikit-learn in /usr/local/lib/python3.6/dist-packages (from sentence-transformers) (0.22.2.post1)\n",
            "Requirement already satisfied, skipping upgrade: scipy in /usr/local/lib/python3.6/dist-packages (from sentence-transformers) (1.4.1)\n",
            "Requirement already satisfied, skipping upgrade: nltk in /usr/local/lib/python3.6/dist-packages (from sentence-transformers) (3.2.5)\n",
            "Requirement already satisfied, skipping upgrade: protobuf in /usr/local/lib/python3.6/dist-packages (from transformers<3.6.0,>=3.1.0->sentence-transformers) (3.12.4)\n",
            "Requirement already satisfied, skipping upgrade: requests in /usr/local/lib/python3.6/dist-packages (from transformers<3.6.0,>=3.1.0->sentence-transformers) (2.23.0)\n",
            "Collecting sentencepiece==0.1.91\n",
            "\u001b[?25l  Downloading https://files.pythonhosted.org/packages/d4/a4/d0a884c4300004a78cca907a6ff9a5e9fe4f090f5d95ab341c53d28cbc58/sentencepiece-0.1.91-cp36-cp36m-manylinux1_x86_64.whl (1.1MB)\n",
            "\u001b[K     |████████████████████████████████| 1.1MB 43.0MB/s \n",
            "\u001b[?25hRequirement already satisfied, skipping upgrade: filelock in /usr/local/lib/python3.6/dist-packages (from transformers<3.6.0,>=3.1.0->sentence-transformers) (3.0.12)\n",
            "Requirement already satisfied, skipping upgrade: dataclasses; python_version < \"3.7\" in /usr/local/lib/python3.6/dist-packages (from transformers<3.6.0,>=3.1.0->sentence-transformers) (0.8)\n",
            "Requirement already satisfied, skipping upgrade: regex!=2019.12.17 in /usr/local/lib/python3.6/dist-packages (from transformers<3.6.0,>=3.1.0->sentence-transformers) (2019.12.20)\n",
            "Requirement already satisfied, skipping upgrade: packaging in /usr/local/lib/python3.6/dist-packages (from transformers<3.6.0,>=3.1.0->sentence-transformers) (20.8)\n",
            "Collecting sacremoses\n",
            "\u001b[?25l  Downloading https://files.pythonhosted.org/packages/7d/34/09d19aff26edcc8eb2a01bed8e98f13a1537005d31e95233fd48216eed10/sacremoses-0.0.43.tar.gz (883kB)\n",
            "\u001b[K     |████████████████████████████████| 890kB 21.7MB/s \n",
            "\u001b[?25hCollecting tokenizers==0.9.3\n",
            "\u001b[?25l  Downloading https://files.pythonhosted.org/packages/4c/34/b39eb9994bc3c999270b69c9eea40ecc6f0e97991dba28282b9fd32d44ee/tokenizers-0.9.3-cp36-cp36m-manylinux1_x86_64.whl (2.9MB)\n",
            "\u001b[K     |████████████████████████████████| 2.9MB 49.0MB/s \n",
            "\u001b[?25hRequirement already satisfied, skipping upgrade: future in /usr/local/lib/python3.6/dist-packages (from torch>=1.6.0->sentence-transformers) (0.16.0)\n",
            "Requirement already satisfied, skipping upgrade: typing-extensions in /usr/local/lib/python3.6/dist-packages (from torch>=1.6.0->sentence-transformers) (3.7.4.3)\n",
            "Requirement already satisfied, skipping upgrade: joblib>=0.11 in /usr/local/lib/python3.6/dist-packages (from scikit-learn->sentence-transformers) (1.0.0)\n",
            "Requirement already satisfied, skipping upgrade: six in /usr/local/lib/python3.6/dist-packages (from nltk->sentence-transformers) (1.15.0)\n",
            "Requirement already satisfied, skipping upgrade: setuptools in /usr/local/lib/python3.6/dist-packages (from protobuf->transformers<3.6.0,>=3.1.0->sentence-transformers) (50.3.2)\n",
            "Requirement already satisfied, skipping upgrade: chardet<4,>=3.0.2 in /usr/local/lib/python3.6/dist-packages (from requests->transformers<3.6.0,>=3.1.0->sentence-transformers) (3.0.4)\n",
            "Requirement already satisfied, skipping upgrade: urllib3!=1.25.0,!=1.25.1,<1.26,>=1.21.1 in /usr/local/lib/python3.6/dist-packages (from requests->transformers<3.6.0,>=3.1.0->sentence-transformers) (1.24.3)\n",
            "Requirement already satisfied, skipping upgrade: idna<3,>=2.5 in /usr/local/lib/python3.6/dist-packages (from requests->transformers<3.6.0,>=3.1.0->sentence-transformers) (2.10)\n",
            "Requirement already satisfied, skipping upgrade: certifi>=2017.4.17 in /usr/local/lib/python3.6/dist-packages (from requests->transformers<3.6.0,>=3.1.0->sentence-transformers) (2020.12.5)\n",
            "Requirement already satisfied, skipping upgrade: pyparsing>=2.0.2 in /usr/local/lib/python3.6/dist-packages (from packaging->transformers<3.6.0,>=3.1.0->sentence-transformers) (2.4.7)\n",
            "Requirement already satisfied, skipping upgrade: click in /usr/local/lib/python3.6/dist-packages (from sacremoses->transformers<3.6.0,>=3.1.0->sentence-transformers) (7.1.2)\n",
            "Building wheels for collected packages: sentence-transformers, sacremoses\n",
            "  Building wheel for sentence-transformers (setup.py) ... \u001b[?25l\u001b[?25hdone\n",
            "  Created wheel for sentence-transformers: filename=sentence_transformers-0.3.9-cp36-none-any.whl size=101035 sha256=58945dcc8c7569468c35acbadc7640b40b89dc6046a6effbf5d831f3b3405f3d\n",
            "  Stored in directory: /root/.cache/pip/wheels/fc/89/43/f2f5bc00b03ef9724b0f6254a97eaf159a4c4ddc024b33e07a\n",
            "  Building wheel for sacremoses (setup.py) ... \u001b[?25l\u001b[?25hdone\n",
            "  Created wheel for sacremoses: filename=sacremoses-0.0.43-cp36-none-any.whl size=893261 sha256=2a9f73e6c1a8de831e52477ea5bcbab3cd5fc715296021c0c3c74f66092a1b58\n",
            "  Stored in directory: /root/.cache/pip/wheels/29/3c/fd/7ce5c3f0666dab31a50123635e6fb5e19ceb42ce38d4e58f45\n",
            "Successfully built sentence-transformers sacremoses\n",
            "Installing collected packages: sentencepiece, sacremoses, tokenizers, transformers, sentence-transformers\n",
            "Successfully installed sacremoses-0.0.43 sentence-transformers-0.3.9 sentencepiece-0.1.91 tokenizers-0.9.3 transformers-3.5.1\n"
          ],
          "name": "stdout"
        }
      ]
    },
    {
      "cell_type": "code",
      "metadata": {
        "colab": {
          "base_uri": "https://localhost:8080/",
          "height": 17
        },
        "id": "cDpCpNp5h-bs",
        "outputId": "aae2766a-d914-453a-8893-a458331d70e4"
      },
      "source": [
        "#Get doc embeddings using sentence transformers (DistilBERT)\n",
        "from sentence_transformers import SentenceTransformer\n",
        "import numpy as np\n",
        "model = SentenceTransformer('distilbert-base-nli-mean-tokens')\n",
        "doc_embeddings = model.encode(documents)\n",
        "print(doc_embeddings.shape)\n",
        "\n",
        "\n",
        "#download embeddings\n",
        "doc_embeddings=np.array(doc_embeddings)\n",
        "print(doc_embeddings.shape)\n",
        "np.save('case_docs_embeddings.npy', doc_embeddings)\n",
        "files.download('case_docs_embeddings.npy')"
      ],
      "execution_count": null,
      "outputs": [
        {
          "output_type": "display_data",
          "data": {
            "application/javascript": [
              "\n",
              "    async function download(id, filename, size) {\n",
              "      if (!google.colab.kernel.accessAllowed) {\n",
              "        return;\n",
              "      }\n",
              "      const div = document.createElement('div');\n",
              "      const label = document.createElement('label');\n",
              "      label.textContent = `Downloading \"${filename}\": `;\n",
              "      div.appendChild(label);\n",
              "      const progress = document.createElement('progress');\n",
              "      progress.max = size;\n",
              "      div.appendChild(progress);\n",
              "      document.body.appendChild(div);\n",
              "\n",
              "      const buffers = [];\n",
              "      let downloaded = 0;\n",
              "\n",
              "      const channel = await google.colab.kernel.comms.open(id);\n",
              "      // Send a message to notify the kernel that we're ready.\n",
              "      channel.send({})\n",
              "\n",
              "      for await (const message of channel.messages) {\n",
              "        // Send a message to notify the kernel that we're ready.\n",
              "        channel.send({})\n",
              "        if (message.buffers) {\n",
              "          for (const buffer of message.buffers) {\n",
              "            buffers.push(buffer);\n",
              "            downloaded += buffer.byteLength;\n",
              "            progress.value = downloaded;\n",
              "          }\n",
              "        }\n",
              "      }\n",
              "      const blob = new Blob(buffers, {type: 'application/binary'});\n",
              "      const a = document.createElement('a');\n",
              "      a.href = window.URL.createObjectURL(blob);\n",
              "      a.download = filename;\n",
              "      div.appendChild(a);\n",
              "      a.click();\n",
              "      div.remove();\n",
              "    }\n",
              "  "
            ],
            "text/plain": [
              "<IPython.core.display.Javascript object>"
            ]
          },
          "metadata": {
            "tags": []
          }
        },
        {
          "output_type": "display_data",
          "data": {
            "application/javascript": [
              "download(\"download_3583f13b-0583-4b89-bb49-06eee0917b8b\", \"case_docs_embeddings.npy\", 8951936)"
            ],
            "text/plain": [
              "<IPython.core.display.Javascript object>"
            ]
          },
          "metadata": {
            "tags": []
          }
        }
      ]
    },
    {
      "cell_type": "code",
      "metadata": {
        "colab": {
          "base_uri": "https://localhost:8080/",
          "height": 34
        },
        "id": "SFmzXOc5oYXR",
        "outputId": "354cac9f-16b4-4ba8-ad20-62ad70b02ae4"
      },
      "source": [
        "#Get Query Embeddings using sentence trasnformers\n",
        "\n",
        "queries=list(qdf[\"query\"])\n",
        "query_embeddings=model.encode(queries)\n",
        "print(query_embeddings.shape)\n",
        "\n",
        "#download embeddings\n",
        "query_embeddings=np.array(query_embeddings)\n",
        "np.save('query_embeddings.npy', query_embeddings)\n",
        "files.download('query_embeddings.npy')\n",
        "\n",
        "\n"
      ],
      "execution_count": null,
      "outputs": [
        {
          "output_type": "stream",
          "text": [
            "(50, 768)\n"
          ],
          "name": "stdout"
        },
        {
          "output_type": "display_data",
          "data": {
            "application/javascript": [
              "\n",
              "    async function download(id, filename, size) {\n",
              "      if (!google.colab.kernel.accessAllowed) {\n",
              "        return;\n",
              "      }\n",
              "      const div = document.createElement('div');\n",
              "      const label = document.createElement('label');\n",
              "      label.textContent = `Downloading \"${filename}\": `;\n",
              "      div.appendChild(label);\n",
              "      const progress = document.createElement('progress');\n",
              "      progress.max = size;\n",
              "      div.appendChild(progress);\n",
              "      document.body.appendChild(div);\n",
              "\n",
              "      const buffers = [];\n",
              "      let downloaded = 0;\n",
              "\n",
              "      const channel = await google.colab.kernel.comms.open(id);\n",
              "      // Send a message to notify the kernel that we're ready.\n",
              "      channel.send({})\n",
              "\n",
              "      for await (const message of channel.messages) {\n",
              "        // Send a message to notify the kernel that we're ready.\n",
              "        channel.send({})\n",
              "        if (message.buffers) {\n",
              "          for (const buffer of message.buffers) {\n",
              "            buffers.push(buffer);\n",
              "            downloaded += buffer.byteLength;\n",
              "            progress.value = downloaded;\n",
              "          }\n",
              "        }\n",
              "      }\n",
              "      const blob = new Blob(buffers, {type: 'application/binary'});\n",
              "      const a = document.createElement('a');\n",
              "      a.href = window.URL.createObjectURL(blob);\n",
              "      a.download = filename;\n",
              "      div.appendChild(a);\n",
              "      a.click();\n",
              "      div.remove();\n",
              "    }\n",
              "  "
            ],
            "text/plain": [
              "<IPython.core.display.Javascript object>"
            ]
          },
          "metadata": {
            "tags": []
          }
        },
        {
          "output_type": "display_data",
          "data": {
            "application/javascript": [
              "download(\"download_bf65ac48-5200-4a83-bbfa-003ec50df8a4\", \"query_embeddings.npy\", 153728)"
            ],
            "text/plain": [
              "<IPython.core.display.Javascript object>"
            ]
          },
          "metadata": {
            "tags": []
          }
        }
      ]
    },
    {
      "cell_type": "markdown",
      "metadata": {
        "id": "nTepX53gRLIz"
      },
      "source": [
        "**Doc2Vec**"
      ]
    },
    {
      "cell_type": "code",
      "metadata": {
        "id": "vLv_6x400RRU",
        "colab": {
          "base_uri": "https://localhost:8080/"
        },
        "outputId": "657843a5-ef2c-4103-f9ba-b7c36f49b065"
      },
      "source": [
        "\n",
        "k=25 #number of rel docs to pick!\n",
        "Q=50\n",
        "from gensim.models.doc2vec import Doc2Vec, TaggedDocument\n",
        "tagged_docs = [TaggedDocument(d, [i]) for i, d in enumerate(tokenized_documents)]\n",
        "\n",
        "model = Doc2Vec(tagged_docs, vector_size = 100, window = 2, min_count = 1, epochs = 100,workers=4)\n",
        "query_results=[]\n",
        "for i,query in enumerate(queries):\n",
        "  query_vector = model.infer_vector(query)\n",
        "  top_k=model.docvecs.most_similar(positive = [query_vector],topn=k)\n",
        "  top_k_docs=[d for d,cs in top_k]\n",
        "\n",
        "  given=json.loads(qdf.loc[(i,\"relevant\")])\n",
        "  matches=0\n",
        "  for ele in top_k_docs:\n",
        "    if(ele in given):\n",
        "      matches+=1\n",
        "  precision_at_k=round(matches/k,2)\n",
        "  recall_at_k=round(matches/len(given),2)\n",
        "  query_results.append({\"index\":\"AILA_Q\"+str(i+1),\"top_k\":top_k_docs,\"relevant\":given,\"precision@k\":precision_at_k,\"recall@k\":recall_at_k})\n",
        "\n",
        "\n",
        "ans_df=pd.DataFrame(query_results)\n",
        "print(ans_df)\n",
        "ap=ans_df[\"precision@k\"].sum()/Q\n",
        "ar=ans_df[\"recall@k\"].sum()/Q\n",
        "print(\"The Avg. precision@k for all queries— \",ap)\n",
        "print(\"The Avg. recall@k for all queries— \",ar)\n",
        "f_score=(2*ap*ar)/ (ap+ar)\n",
        "print(\"The F-score is \",f_score)\n",
        "\n"
      ],
      "execution_count": null,
      "outputs": [
        {
          "output_type": "stream",
          "text": [
            "       index  ... recall@k\n",
            "0    AILA_Q1  ...     0.00\n",
            "1    AILA_Q2  ...     0.00\n",
            "2    AILA_Q3  ...     0.00\n",
            "3    AILA_Q4  ...     0.00\n",
            "4    AILA_Q5  ...     0.00\n",
            "5    AILA_Q6  ...     0.00\n",
            "6    AILA_Q7  ...     0.00\n",
            "7    AILA_Q8  ...     0.00\n",
            "8    AILA_Q9  ...     0.00\n",
            "9   AILA_Q10  ...     0.00\n",
            "10  AILA_Q11  ...     0.00\n",
            "11  AILA_Q12  ...     0.00\n",
            "12  AILA_Q13  ...     0.00\n",
            "13  AILA_Q14  ...     0.00\n",
            "14  AILA_Q15  ...     0.00\n",
            "15  AILA_Q16  ...     0.00\n",
            "16  AILA_Q17  ...     0.00\n",
            "17  AILA_Q18  ...     0.00\n",
            "18  AILA_Q19  ...     0.00\n",
            "19  AILA_Q20  ...     0.00\n",
            "20  AILA_Q21  ...     0.00\n",
            "21  AILA_Q22  ...     0.00\n",
            "22  AILA_Q23  ...     0.00\n",
            "23  AILA_Q24  ...     0.00\n",
            "24  AILA_Q25  ...     0.00\n",
            "25  AILA_Q26  ...     0.12\n",
            "26  AILA_Q27  ...     0.00\n",
            "27  AILA_Q28  ...     0.00\n",
            "28  AILA_Q29  ...     0.00\n",
            "29  AILA_Q30  ...     0.00\n",
            "30  AILA_Q31  ...     0.00\n",
            "31  AILA_Q32  ...     0.00\n",
            "32  AILA_Q33  ...     0.00\n",
            "33  AILA_Q34  ...     0.00\n",
            "34  AILA_Q35  ...     0.00\n",
            "35  AILA_Q36  ...     0.00\n",
            "36  AILA_Q37  ...     0.00\n",
            "37  AILA_Q38  ...     0.00\n",
            "38  AILA_Q39  ...     0.00\n",
            "39  AILA_Q40  ...     0.00\n",
            "40  AILA_Q41  ...     0.00\n",
            "41  AILA_Q42  ...     0.00\n",
            "42  AILA_Q43  ...     0.00\n",
            "43  AILA_Q44  ...     0.00\n",
            "44  AILA_Q45  ...     0.00\n",
            "45  AILA_Q46  ...     0.00\n",
            "46  AILA_Q47  ...     0.00\n",
            "47  AILA_Q48  ...     0.00\n",
            "48  AILA_Q49  ...     0.00\n",
            "49  AILA_Q50  ...     0.00\n",
            "\n",
            "[50 rows x 5 columns]\n",
            "The Avg. precision@k for all queries—  0.002\n",
            "The Avg. recall@k for all queries—  0.0024\n",
            "The F-score is  0.002181818181818182\n"
          ],
          "name": "stdout"
        }
      ]
    }
  ]
}